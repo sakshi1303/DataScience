{
 "cells": [
  {
   "cell_type": "code",
   "execution_count": 1,
   "id": "3391b798",
   "metadata": {
    "_cell_guid": "b1076dfc-b9ad-4769-8c92-a6c4dae69d19",
    "_uuid": "8f2839f25d086af736a60e9eeb907d3b93b6e0e5",
    "execution": {
     "iopub.execute_input": "2021-08-13T04:47:33.215118Z",
     "iopub.status.busy": "2021-08-13T04:47:33.214553Z",
     "iopub.status.idle": "2021-08-13T04:47:51.960552Z",
     "shell.execute_reply": "2021-08-13T04:47:51.959792Z",
     "shell.execute_reply.started": "2021-08-07T17:20:20.230219Z"
    },
    "papermill": {
     "duration": 18.802221,
     "end_time": "2021-08-13T04:47:51.960722",
     "exception": false,
     "start_time": "2021-08-13T04:47:33.158501",
     "status": "completed"
    },
    "tags": []
   },
   "outputs": [],
   "source": [
    "import pandas as pd\n",
    "import numpy as np\n",
    "train = pd.read_csv('../input/optiver-realized-volatility-prediction/train.csv')\n",
    "#test = pd.read_csv('../input/optiver-realized-volatility-prediction/test.csv')\n",
    "book_train = pd.read_parquet('../input/optiver-realized-volatility-prediction/book_train.parquet')\n",
    "trade_train = pd.read_parquet('../input/optiver-realized-volatility-prediction/trade_train.parquet')\n",
    "#book_test = pd.read_parquet('../input/optiver-realized-volatility-prediction/book_train.parquet')\n",
    "#print(train.head(2))\n",
    "#print(test.head(2))\n",
    "#print(book_train.head(2))\n",
    "#print(trade_train.head(2))\n",
    "#print(trade_test.head(2))"
   ]
  },
  {
   "cell_type": "code",
   "execution_count": 2,
   "id": "09bef99b",
   "metadata": {
    "execution": {
     "iopub.execute_input": "2021-08-13T04:47:52.059207Z",
     "iopub.status.busy": "2021-08-13T04:47:52.058619Z",
     "iopub.status.idle": "2021-08-13T04:47:52.070698Z",
     "shell.execute_reply": "2021-08-13T04:47:52.069933Z",
     "shell.execute_reply.started": "2021-08-07T17:20:44.630457Z"
    },
    "papermill": {
     "duration": 0.063964,
     "end_time": "2021-08-13T04:47:52.070899",
     "exception": false,
     "start_time": "2021-08-13T04:47:52.006935",
     "status": "completed"
    },
    "tags": []
   },
   "outputs": [
    {
     "name": "stdout",
     "output_type": "stream",
     "text": [
      "   stock_id  time_id    target\n",
      "0         0        5  0.004136\n",
      "1         0       11  0.001445\n"
     ]
    }
   ],
   "source": [
    "print(train.head(2))"
   ]
  },
  {
   "cell_type": "code",
   "execution_count": 3,
   "id": "ef26f7f2",
   "metadata": {
    "execution": {
     "iopub.execute_input": "2021-08-13T04:47:52.173780Z",
     "iopub.status.busy": "2021-08-13T04:47:52.172977Z",
     "iopub.status.idle": "2021-08-13T04:47:52.176875Z",
     "shell.execute_reply": "2021-08-13T04:47:52.176267Z",
     "shell.execute_reply.started": "2021-08-07T17:20:45.768578Z"
    },
    "papermill": {
     "duration": 0.060728,
     "end_time": "2021-08-13T04:47:52.177003",
     "exception": false,
     "start_time": "2021-08-13T04:47:52.116275",
     "status": "completed"
    },
    "tags": []
   },
   "outputs": [
    {
     "name": "stdout",
     "output_type": "stream",
     "text": [
      "   time_id  seconds_in_bucket  bid_price1  ask_price1  bid_price2  ask_price2  \\\n",
      "0        5                  0    1.001422    1.002301     1.00137    1.002353   \n",
      "1        5                  1    1.001422    1.002301     1.00137    1.002353   \n",
      "\n",
      "   bid_size1  ask_size1  bid_size2  ask_size2 stock_id  \n",
      "0          3        226          2        100        0  \n",
      "1          3        100          2        100        0  \n"
     ]
    }
   ],
   "source": [
    "print(book_train.head(2))"
   ]
  },
  {
   "cell_type": "code",
   "execution_count": 4,
   "id": "f733a020",
   "metadata": {
    "execution": {
     "iopub.execute_input": "2021-08-13T04:47:52.273679Z",
     "iopub.status.busy": "2021-08-13T04:47:52.272740Z",
     "iopub.status.idle": "2021-08-13T04:47:52.276568Z",
     "shell.execute_reply": "2021-08-13T04:47:52.277119Z",
     "shell.execute_reply.started": "2021-08-07T17:20:46.765763Z"
    },
    "papermill": {
     "duration": 0.055201,
     "end_time": "2021-08-13T04:47:52.277325",
     "exception": false,
     "start_time": "2021-08-13T04:47:52.222124",
     "status": "completed"
    },
    "tags": []
   },
   "outputs": [
    {
     "name": "stdout",
     "output_type": "stream",
     "text": [
      "   time_id  seconds_in_bucket     price  size  order_count stock_id\n",
      "0        5                 21  1.002301   326           12        0\n",
      "1        5                 46  1.002778   128            4        0\n"
     ]
    }
   ],
   "source": [
    "print(trade_train.head(2))"
   ]
  },
  {
   "cell_type": "code",
   "execution_count": 5,
   "id": "f96eee62",
   "metadata": {
    "execution": {
     "iopub.execute_input": "2021-08-13T04:47:52.372602Z",
     "iopub.status.busy": "2021-08-13T04:47:52.371962Z",
     "iopub.status.idle": "2021-08-13T04:47:52.373867Z",
     "shell.execute_reply": "2021-08-13T04:47:52.374274Z",
     "shell.execute_reply.started": "2021-08-07T17:20:47.792403Z"
    },
    "papermill": {
     "duration": 0.05155,
     "end_time": "2021-08-13T04:47:52.374436",
     "exception": false,
     "start_time": "2021-08-13T04:47:52.322886",
     "status": "completed"
    },
    "tags": []
   },
   "outputs": [],
   "source": [
    "def log_return(list_stock_prices):\n",
    "    return np.log(list_stock_prices).diff()"
   ]
  },
  {
   "cell_type": "code",
   "execution_count": 6,
   "id": "041603c2",
   "metadata": {
    "execution": {
     "iopub.execute_input": "2021-08-13T04:47:52.472103Z",
     "iopub.status.busy": "2021-08-13T04:47:52.471482Z",
     "iopub.status.idle": "2021-08-13T04:47:52.474380Z",
     "shell.execute_reply": "2021-08-13T04:47:52.474837Z",
     "shell.execute_reply.started": "2021-08-07T17:20:49.180951Z"
    },
    "papermill": {
     "duration": 0.053583,
     "end_time": "2021-08-13T04:47:52.474998",
     "exception": false,
     "start_time": "2021-08-13T04:47:52.421415",
     "status": "completed"
    },
    "tags": []
   },
   "outputs": [],
   "source": [
    "def realized_volatility(series_log_return):\n",
    "    return np.sqrt(np.sum(series_log_return**2))"
   ]
  },
  {
   "cell_type": "code",
   "execution_count": 7,
   "id": "dd4152c5",
   "metadata": {
    "execution": {
     "iopub.execute_input": "2021-08-13T04:47:52.577262Z",
     "iopub.status.busy": "2021-08-13T04:47:52.576607Z",
     "iopub.status.idle": "2021-08-13T04:47:52.579208Z",
     "shell.execute_reply": "2021-08-13T04:47:52.579588Z",
     "shell.execute_reply.started": "2021-08-07T17:20:50.471429Z"
    },
    "papermill": {
     "duration": 0.055764,
     "end_time": "2021-08-13T04:47:52.579752",
     "exception": false,
     "start_time": "2021-08-13T04:47:52.523988",
     "status": "completed"
    },
    "tags": []
   },
   "outputs": [],
   "source": [
    "# To calculate WAP and realized volatility per stock id and time id\n",
    "def realized_volatility_per_time_id(file_path, prediction_column_name):\n",
    "    #print(file_path)\n",
    "    df_book_data = pd.read_parquet(file_path)\n",
    "    df_book_data['wap'] =(df_book_data['bid_price1'] * df_book_data['ask_size1']+df_book_data['ask_price1'] * df_book_data['bid_size1'])  / (\n",
    "                                      df_book_data['bid_size1']+ df_book_data[\n",
    "                                  'ask_size1'])\n",
    "    df_book_data['log_return'] = df_book_data.groupby(['time_id'])['wap'].apply(log_return)\n",
    "    df_book_data = df_book_data[~df_book_data['log_return'].isnull()]\n",
    "    df_realized_vol_per_stock =  pd.DataFrame(df_book_data.groupby(['time_id'])['log_return'].agg(realized_volatility)).reset_index()\n",
    "    df_realized_vol_per_stock = df_realized_vol_per_stock.rename(columns = {'log_return':prediction_column_name})\n",
    "    stock_id = file_path.split('=')[1]\n",
    "    df_realized_vol_per_stock['row_id'] = df_realized_vol_per_stock['time_id'].apply(lambda x:f'{stock_id}-{x}')\n",
    "    return df_realized_vol_per_stock[['row_id',prediction_column_name]]"
   ]
  },
  {
   "cell_type": "code",
   "execution_count": 8,
   "id": "1e03ba16",
   "metadata": {
    "execution": {
     "iopub.execute_input": "2021-08-13T04:47:52.678933Z",
     "iopub.status.busy": "2021-08-13T04:47:52.678285Z",
     "iopub.status.idle": "2021-08-13T04:47:52.681320Z",
     "shell.execute_reply": "2021-08-13T04:47:52.680867Z",
     "shell.execute_reply.started": "2021-08-07T17:20:51.814376Z"
    },
    "papermill": {
     "duration": 0.055196,
     "end_time": "2021-08-13T04:47:52.681452",
     "exception": false,
     "start_time": "2021-08-13T04:47:52.626256",
     "status": "completed"
    },
    "tags": []
   },
   "outputs": [],
   "source": [
    "def past_realized_volatility_per_stock(list_file,prediction_column_name):\n",
    "    df_past_realized = pd.DataFrame()\n",
    "    for file in list_file:\n",
    "        df_past_realized = pd.concat([df_past_realized,\n",
    "                                     realized_volatility_per_time_id(file,prediction_column_name)])\n",
    "    return df_past_realized"
   ]
  },
  {
   "cell_type": "code",
   "execution_count": 9,
   "id": "1b71e751",
   "metadata": {
    "execution": {
     "iopub.execute_input": "2021-08-13T04:47:52.779960Z",
     "iopub.status.busy": "2021-08-13T04:47:52.779360Z",
     "iopub.status.idle": "2021-08-13T04:53:28.944739Z",
     "shell.execute_reply": "2021-08-13T04:53:28.945230Z",
     "shell.execute_reply.started": "2021-08-07T17:20:53.330903Z"
    },
    "papermill": {
     "duration": 336.217187,
     "end_time": "2021-08-13T04:53:28.945444",
     "exception": false,
     "start_time": "2021-08-13T04:47:52.728257",
     "status": "completed"
    },
    "tags": []
   },
   "outputs": [],
   "source": [
    "import os\n",
    "import glob\n",
    "list_order_book_file_train = glob.glob('/kaggle/input/optiver-realized-volatility-prediction/book_train.parquet/*')\n",
    "df_past_realized_train = past_realized_volatility_per_stock(list_file=list_order_book_file_train,\n",
    "                                                           prediction_column_name='pred')"
   ]
  },
  {
   "cell_type": "code",
   "execution_count": 10,
   "id": "6ff3d874",
   "metadata": {
    "execution": {
     "iopub.execute_input": "2021-08-13T04:53:29.039582Z",
     "iopub.status.busy": "2021-08-13T04:53:29.039054Z",
     "iopub.status.idle": "2021-08-13T04:53:29.072668Z",
     "shell.execute_reply": "2021-08-13T04:53:29.072170Z",
     "shell.execute_reply.started": "2021-08-07T17:27:18.347179Z"
    },
    "papermill": {
     "duration": 0.080963,
     "end_time": "2021-08-13T04:53:29.072823",
     "exception": false,
     "start_time": "2021-08-13T04:53:28.991860",
     "status": "completed"
    },
    "tags": []
   },
   "outputs": [],
   "source": [
    "list_order_book_file_test = glob.glob('/kaggle/input/optiver-realized-volatility-prediction/book_test.parquet/*')\n",
    "df_past_realized_test = past_realized_volatility_per_stock(list_file=list_order_book_file_test,\n",
    "                                                           prediction_column_name='test_past_vol')"
   ]
  },
  {
   "cell_type": "code",
   "execution_count": 11,
   "id": "05ae7e52",
   "metadata": {
    "execution": {
     "iopub.execute_input": "2021-08-13T04:53:29.171116Z",
     "iopub.status.busy": "2021-08-13T04:53:29.170476Z",
     "iopub.status.idle": "2021-08-13T04:53:29.179474Z",
     "shell.execute_reply": "2021-08-13T04:53:29.178925Z",
     "shell.execute_reply.started": "2021-08-07T17:27:19.598469Z"
    },
    "papermill": {
     "duration": 0.061807,
     "end_time": "2021-08-13T04:53:29.179597",
     "exception": false,
     "start_time": "2021-08-13T04:53:29.117790",
     "status": "completed"
    },
    "tags": []
   },
   "outputs": [
    {
     "data": {
      "text/html": [
       "<div>\n",
       "<style scoped>\n",
       "    .dataframe tbody tr th:only-of-type {\n",
       "        vertical-align: middle;\n",
       "    }\n",
       "\n",
       "    .dataframe tbody tr th {\n",
       "        vertical-align: top;\n",
       "    }\n",
       "\n",
       "    .dataframe thead th {\n",
       "        text-align: right;\n",
       "    }\n",
       "</style>\n",
       "<table border=\"1\" class=\"dataframe\">\n",
       "  <thead>\n",
       "    <tr style=\"text-align: right;\">\n",
       "      <th></th>\n",
       "      <th>row_id</th>\n",
       "      <th>pred</th>\n",
       "    </tr>\n",
       "  </thead>\n",
       "  <tbody>\n",
       "    <tr>\n",
       "      <th>0</th>\n",
       "      <td>97-5</td>\n",
       "      <td>0.007263</td>\n",
       "    </tr>\n",
       "    <tr>\n",
       "      <th>1</th>\n",
       "      <td>97-11</td>\n",
       "      <td>0.002919</td>\n",
       "    </tr>\n",
       "    <tr>\n",
       "      <th>2</th>\n",
       "      <td>97-16</td>\n",
       "      <td>0.003799</td>\n",
       "    </tr>\n",
       "    <tr>\n",
       "      <th>3</th>\n",
       "      <td>97-31</td>\n",
       "      <td>0.003753</td>\n",
       "    </tr>\n",
       "    <tr>\n",
       "      <th>4</th>\n",
       "      <td>97-62</td>\n",
       "      <td>0.004365</td>\n",
       "    </tr>\n",
       "  </tbody>\n",
       "</table>\n",
       "</div>"
      ],
      "text/plain": [
       "  row_id      pred\n",
       "0   97-5  0.007263\n",
       "1  97-11  0.002919\n",
       "2  97-16  0.003799\n",
       "3  97-31  0.003753\n",
       "4  97-62  0.004365"
      ]
     },
     "execution_count": 11,
     "metadata": {},
     "output_type": "execute_result"
    }
   ],
   "source": [
    "df_past_realized_train.head()"
   ]
  },
  {
   "cell_type": "code",
   "execution_count": 12,
   "id": "201ea980",
   "metadata": {
    "execution": {
     "iopub.execute_input": "2021-08-13T04:53:29.279241Z",
     "iopub.status.busy": "2021-08-13T04:53:29.278417Z",
     "iopub.status.idle": "2021-08-13T04:53:29.282418Z",
     "shell.execute_reply": "2021-08-13T04:53:29.281889Z",
     "shell.execute_reply.started": "2021-08-07T17:27:20.811135Z"
    },
    "papermill": {
     "duration": 0.05732,
     "end_time": "2021-08-13T04:53:29.282542",
     "exception": false,
     "start_time": "2021-08-13T04:53:29.225222",
     "status": "completed"
    },
    "tags": []
   },
   "outputs": [
    {
     "data": {
      "text/html": [
       "<div>\n",
       "<style scoped>\n",
       "    .dataframe tbody tr th:only-of-type {\n",
       "        vertical-align: middle;\n",
       "    }\n",
       "\n",
       "    .dataframe tbody tr th {\n",
       "        vertical-align: top;\n",
       "    }\n",
       "\n",
       "    .dataframe thead th {\n",
       "        text-align: right;\n",
       "    }\n",
       "</style>\n",
       "<table border=\"1\" class=\"dataframe\">\n",
       "  <thead>\n",
       "    <tr style=\"text-align: right;\">\n",
       "      <th></th>\n",
       "      <th>row_id</th>\n",
       "      <th>test_past_vol</th>\n",
       "    </tr>\n",
       "  </thead>\n",
       "  <tbody>\n",
       "    <tr>\n",
       "      <th>0</th>\n",
       "      <td>0-4</td>\n",
       "      <td>0.000294</td>\n",
       "    </tr>\n",
       "  </tbody>\n",
       "</table>\n",
       "</div>"
      ],
      "text/plain": [
       "  row_id  test_past_vol\n",
       "0    0-4       0.000294"
      ]
     },
     "execution_count": 12,
     "metadata": {},
     "output_type": "execute_result"
    }
   ],
   "source": [
    "df_past_realized_test.head()"
   ]
  },
  {
   "cell_type": "code",
   "execution_count": 13,
   "id": "c8606a3a",
   "metadata": {
    "execution": {
     "iopub.execute_input": "2021-08-13T04:53:29.380211Z",
     "iopub.status.busy": "2021-08-13T04:53:29.379580Z",
     "iopub.status.idle": "2021-08-13T04:53:30.530250Z",
     "shell.execute_reply": "2021-08-13T04:53:30.529708Z",
     "shell.execute_reply.started": "2021-08-07T17:27:22.027337Z"
    },
    "papermill": {
     "duration": 1.201173,
     "end_time": "2021-08-13T04:53:30.530389",
     "exception": false,
     "start_time": "2021-08-13T04:53:29.329216",
     "status": "completed"
    },
    "tags": []
   },
   "outputs": [],
   "source": [
    "train['row_id'] = train['stock_id'].astype(str) + '-' + train['time_id'].astype(str)\n",
    "#train = train[['row_id','target']]\n",
    "df_joined = train.merge(df_past_realized_train[['row_id','pred']], on = ['row_id'], how = 'left')\n",
    "df_joined.columns = ['stock_id', 'time_id', 'target', 'row_id', 'past_vol']\n",
    "#df_joined.drop('row_id', axis=1, inplace=True)\n",
    "#print(train.head())"
   ]
  },
  {
   "cell_type": "code",
   "execution_count": 14,
   "id": "8fbde8c8",
   "metadata": {
    "execution": {
     "iopub.execute_input": "2021-08-13T04:53:30.633180Z",
     "iopub.status.busy": "2021-08-13T04:53:30.632333Z",
     "iopub.status.idle": "2021-08-13T04:53:30.636538Z",
     "shell.execute_reply": "2021-08-13T04:53:30.636104Z",
     "shell.execute_reply.started": "2021-08-07T17:27:25.303938Z"
    },
    "papermill": {
     "duration": 0.060293,
     "end_time": "2021-08-13T04:53:30.636679",
     "exception": false,
     "start_time": "2021-08-13T04:53:30.576386",
     "status": "completed"
    },
    "tags": []
   },
   "outputs": [
    {
     "data": {
      "text/html": [
       "<div>\n",
       "<style scoped>\n",
       "    .dataframe tbody tr th:only-of-type {\n",
       "        vertical-align: middle;\n",
       "    }\n",
       "\n",
       "    .dataframe tbody tr th {\n",
       "        vertical-align: top;\n",
       "    }\n",
       "\n",
       "    .dataframe thead th {\n",
       "        text-align: right;\n",
       "    }\n",
       "</style>\n",
       "<table border=\"1\" class=\"dataframe\">\n",
       "  <thead>\n",
       "    <tr style=\"text-align: right;\">\n",
       "      <th></th>\n",
       "      <th>stock_id</th>\n",
       "      <th>time_id</th>\n",
       "      <th>target</th>\n",
       "      <th>row_id</th>\n",
       "      <th>past_vol</th>\n",
       "    </tr>\n",
       "  </thead>\n",
       "  <tbody>\n",
       "    <tr>\n",
       "      <th>0</th>\n",
       "      <td>0</td>\n",
       "      <td>5</td>\n",
       "      <td>0.004136</td>\n",
       "      <td>0-5</td>\n",
       "      <td>0.004499</td>\n",
       "    </tr>\n",
       "    <tr>\n",
       "      <th>1</th>\n",
       "      <td>0</td>\n",
       "      <td>11</td>\n",
       "      <td>0.001445</td>\n",
       "      <td>0-11</td>\n",
       "      <td>0.001204</td>\n",
       "    </tr>\n",
       "    <tr>\n",
       "      <th>2</th>\n",
       "      <td>0</td>\n",
       "      <td>16</td>\n",
       "      <td>0.002168</td>\n",
       "      <td>0-16</td>\n",
       "      <td>0.002369</td>\n",
       "    </tr>\n",
       "    <tr>\n",
       "      <th>3</th>\n",
       "      <td>0</td>\n",
       "      <td>31</td>\n",
       "      <td>0.002195</td>\n",
       "      <td>0-31</td>\n",
       "      <td>0.002574</td>\n",
       "    </tr>\n",
       "    <tr>\n",
       "      <th>4</th>\n",
       "      <td>0</td>\n",
       "      <td>62</td>\n",
       "      <td>0.001747</td>\n",
       "      <td>0-62</td>\n",
       "      <td>0.001894</td>\n",
       "    </tr>\n",
       "  </tbody>\n",
       "</table>\n",
       "</div>"
      ],
      "text/plain": [
       "   stock_id  time_id    target row_id  past_vol\n",
       "0         0        5  0.004136    0-5  0.004499\n",
       "1         0       11  0.001445   0-11  0.001204\n",
       "2         0       16  0.002168   0-16  0.002369\n",
       "3         0       31  0.002195   0-31  0.002574\n",
       "4         0       62  0.001747   0-62  0.001894"
      ]
     },
     "execution_count": 14,
     "metadata": {},
     "output_type": "execute_result"
    }
   ],
   "source": [
    "df_joined.head()"
   ]
  },
  {
   "cell_type": "code",
   "execution_count": 15,
   "id": "e06063ac",
   "metadata": {
    "execution": {
     "iopub.execute_input": "2021-08-13T04:53:30.735591Z",
     "iopub.status.busy": "2021-08-13T04:53:30.734784Z",
     "iopub.status.idle": "2021-08-13T04:53:30.737746Z",
     "shell.execute_reply": "2021-08-13T04:53:30.737316Z",
     "shell.execute_reply.started": "2021-08-07T18:18:32.112765Z"
    },
    "papermill": {
     "duration": 0.054953,
     "end_time": "2021-08-13T04:53:30.737918",
     "exception": false,
     "start_time": "2021-08-13T04:53:30.682965",
     "status": "completed"
    },
    "tags": []
   },
   "outputs": [],
   "source": [
    "def trade_book_total(file_path, prediction_column_name):\n",
    "    #print(file_path)\n",
    "    df_trade_data = pd.read_parquet(file_path)\n",
    "    df_trade_data['tot_price'] = df_trade_data['price'] * df_trade_data['size']\n",
    "    df_total_trade_data =  pd.DataFrame(df_trade_data.groupby(['time_id']).sum('tot_price')).reset_index()\n",
    "    df_total_trade_data = df_total_trade_data.rename(columns = {'tot_price':prediction_column_name})\n",
    "    stock_id = file_path.split('=')[1]\n",
    "    df_total_trade_data['row_id'] = df_total_trade_data['time_id'].apply(lambda x:f'{stock_id}-{x}')\n",
    "    return df_total_trade_data [['row_id',prediction_column_name]]"
   ]
  },
  {
   "cell_type": "code",
   "execution_count": 16,
   "id": "c7c49751",
   "metadata": {
    "execution": {
     "iopub.execute_input": "2021-08-13T04:53:30.834537Z",
     "iopub.status.busy": "2021-08-13T04:53:30.833608Z",
     "iopub.status.idle": "2021-08-13T04:53:30.835803Z",
     "shell.execute_reply": "2021-08-13T04:53:30.836283Z",
     "shell.execute_reply.started": "2021-08-07T18:18:33.303484Z"
    },
    "papermill": {
     "duration": 0.052926,
     "end_time": "2021-08-13T04:53:30.836432",
     "exception": false,
     "start_time": "2021-08-13T04:53:30.783506",
     "status": "completed"
    },
    "tags": []
   },
   "outputs": [],
   "source": [
    "def trade_book_total_value(list_file,prediction_column_name):\n",
    "    df_trade_book = pd.DataFrame()\n",
    "    for file in list_file:\n",
    "        #print(file)\n",
    "        df_trade_book = pd.concat([df_trade_book,trade_book_total(file, prediction_column_name)])\n",
    "    return df_trade_book"
   ]
  },
  {
   "cell_type": "code",
   "execution_count": 17,
   "id": "71e0f28d",
   "metadata": {
    "execution": {
     "iopub.execute_input": "2021-08-13T04:53:30.932573Z",
     "iopub.status.busy": "2021-08-13T04:53:30.931564Z",
     "iopub.status.idle": "2021-08-13T04:53:37.364644Z",
     "shell.execute_reply": "2021-08-13T04:53:37.364139Z",
     "shell.execute_reply.started": "2021-08-07T18:18:34.563466Z"
    },
    "papermill": {
     "duration": 6.48249,
     "end_time": "2021-08-13T04:53:37.364799",
     "exception": false,
     "start_time": "2021-08-13T04:53:30.882309",
     "status": "completed"
    },
    "tags": []
   },
   "outputs": [],
   "source": [
    "import os\n",
    "import glob\n",
    "list_trade_book_file_train = glob.glob('/kaggle/input/optiver-realized-volatility-prediction/trade_train.parquet/*')\n",
    "df_past_realized_train_trade = trade_book_total_value(list_file=list_trade_book_file_train,\n",
    "                                                           prediction_column_name='total_val')"
   ]
  },
  {
   "cell_type": "code",
   "execution_count": 18,
   "id": "536e6c52",
   "metadata": {
    "execution": {
     "iopub.execute_input": "2021-08-13T04:53:37.467187Z",
     "iopub.status.busy": "2021-08-13T04:53:37.466576Z",
     "iopub.status.idle": "2021-08-13T04:53:37.490730Z",
     "shell.execute_reply": "2021-08-13T04:53:37.491213Z",
     "shell.execute_reply.started": "2021-08-07T18:34:14.054019Z"
    },
    "papermill": {
     "duration": 0.076948,
     "end_time": "2021-08-13T04:53:37.491384",
     "exception": false,
     "start_time": "2021-08-13T04:53:37.414436",
     "status": "completed"
    },
    "tags": []
   },
   "outputs": [],
   "source": [
    "list_trade_book_file_test = glob.glob('/kaggle/input/optiver-realized-volatility-prediction/trade_test.parquet/*')\n",
    "df_past_realized_test_trade = trade_book_total_value(list_file=list_trade_book_file_test,\n",
    "                                                           prediction_column_name='total_val')"
   ]
  },
  {
   "cell_type": "code",
   "execution_count": 19,
   "id": "c0e1e8b3",
   "metadata": {
    "execution": {
     "iopub.execute_input": "2021-08-13T04:53:37.593864Z",
     "iopub.status.busy": "2021-08-13T04:53:37.593278Z",
     "iopub.status.idle": "2021-08-13T04:53:37.598438Z",
     "shell.execute_reply": "2021-08-13T04:53:37.597985Z",
     "shell.execute_reply.started": "2021-08-07T18:34:17.100757Z"
    },
    "papermill": {
     "duration": 0.060331,
     "end_time": "2021-08-13T04:53:37.598566",
     "exception": false,
     "start_time": "2021-08-13T04:53:37.538235",
     "status": "completed"
    },
    "tags": []
   },
   "outputs": [
    {
     "data": {
      "text/html": [
       "<div>\n",
       "<style scoped>\n",
       "    .dataframe tbody tr th:only-of-type {\n",
       "        vertical-align: middle;\n",
       "    }\n",
       "\n",
       "    .dataframe tbody tr th {\n",
       "        vertical-align: top;\n",
       "    }\n",
       "\n",
       "    .dataframe thead th {\n",
       "        text-align: right;\n",
       "    }\n",
       "</style>\n",
       "<table border=\"1\" class=\"dataframe\">\n",
       "  <thead>\n",
       "    <tr style=\"text-align: right;\">\n",
       "      <th></th>\n",
       "      <th>row_id</th>\n",
       "      <th>total_val</th>\n",
       "    </tr>\n",
       "  </thead>\n",
       "  <tbody>\n",
       "    <tr>\n",
       "      <th>0</th>\n",
       "      <td>97-5</td>\n",
       "      <td>3976.823730</td>\n",
       "    </tr>\n",
       "    <tr>\n",
       "      <th>1</th>\n",
       "      <td>97-11</td>\n",
       "      <td>1942.729980</td>\n",
       "    </tr>\n",
       "    <tr>\n",
       "      <th>2</th>\n",
       "      <td>97-16</td>\n",
       "      <td>5333.698730</td>\n",
       "    </tr>\n",
       "    <tr>\n",
       "      <th>3</th>\n",
       "      <td>97-31</td>\n",
       "      <td>4281.407227</td>\n",
       "    </tr>\n",
       "    <tr>\n",
       "      <th>4</th>\n",
       "      <td>97-62</td>\n",
       "      <td>2915.905273</td>\n",
       "    </tr>\n",
       "  </tbody>\n",
       "</table>\n",
       "</div>"
      ],
      "text/plain": [
       "  row_id    total_val\n",
       "0   97-5  3976.823730\n",
       "1  97-11  1942.729980\n",
       "2  97-16  5333.698730\n",
       "3  97-31  4281.407227\n",
       "4  97-62  2915.905273"
      ]
     },
     "execution_count": 19,
     "metadata": {},
     "output_type": "execute_result"
    }
   ],
   "source": [
    "df_past_realized_train_trade.head()"
   ]
  },
  {
   "cell_type": "code",
   "execution_count": 20,
   "id": "beee6576",
   "metadata": {
    "execution": {
     "iopub.execute_input": "2021-08-13T04:53:37.707646Z",
     "iopub.status.busy": "2021-08-13T04:53:37.707072Z",
     "iopub.status.idle": "2021-08-13T04:53:37.711215Z",
     "shell.execute_reply": "2021-08-13T04:53:37.710758Z",
     "shell.execute_reply.started": "2021-08-07T18:38:12.520384Z"
    },
    "papermill": {
     "duration": 0.062069,
     "end_time": "2021-08-13T04:53:37.711351",
     "exception": false,
     "start_time": "2021-08-13T04:53:37.649282",
     "status": "completed"
    },
    "tags": []
   },
   "outputs": [
    {
     "data": {
      "text/html": [
       "<div>\n",
       "<style scoped>\n",
       "    .dataframe tbody tr th:only-of-type {\n",
       "        vertical-align: middle;\n",
       "    }\n",
       "\n",
       "    .dataframe tbody tr th {\n",
       "        vertical-align: top;\n",
       "    }\n",
       "\n",
       "    .dataframe thead th {\n",
       "        text-align: right;\n",
       "    }\n",
       "</style>\n",
       "<table border=\"1\" class=\"dataframe\">\n",
       "  <thead>\n",
       "    <tr style=\"text-align: right;\">\n",
       "      <th></th>\n",
       "      <th>row_id</th>\n",
       "      <th>total_val</th>\n",
       "    </tr>\n",
       "  </thead>\n",
       "  <tbody>\n",
       "    <tr>\n",
       "      <th>0</th>\n",
       "      <td>0-4</td>\n",
       "      <td>201.011156</td>\n",
       "    </tr>\n",
       "  </tbody>\n",
       "</table>\n",
       "</div>"
      ],
      "text/plain": [
       "  row_id   total_val\n",
       "0    0-4  201.011156"
      ]
     },
     "execution_count": 20,
     "metadata": {},
     "output_type": "execute_result"
    }
   ],
   "source": [
    "df_past_realized_test_trade.head()"
   ]
  },
  {
   "cell_type": "code",
   "execution_count": 21,
   "id": "b2be8b1a",
   "metadata": {
    "execution": {
     "iopub.execute_input": "2021-08-13T04:53:37.813383Z",
     "iopub.status.busy": "2021-08-13T04:53:37.812736Z",
     "iopub.status.idle": "2021-08-13T04:53:38.288055Z",
     "shell.execute_reply": "2021-08-13T04:53:38.287352Z",
     "shell.execute_reply.started": "2021-08-07T18:38:14.030671Z"
    },
    "papermill": {
     "duration": 0.528882,
     "end_time": "2021-08-13T04:53:38.288227",
     "exception": false,
     "start_time": "2021-08-13T04:53:37.759345",
     "status": "completed"
    },
    "tags": []
   },
   "outputs": [],
   "source": [
    "###train['row_id'] = train['stock_id'].astype(str) + '-' + train['time_id'].astype(str)\n",
    "#train = train[['row_id','target']]\n",
    "df_joined_new = df_joined.merge(df_past_realized_train_trade, on = ['row_id'], how = 'left')\n",
    "df_joined_new.columns = ['stock_id', 'time_id', 'target', 'row_id','past_vol','past_trade_tot']\n",
    "df_joined_new.drop('row_id', axis=1, inplace=True)\n",
    "#print(train.head())"
   ]
  },
  {
   "cell_type": "code",
   "execution_count": 22,
   "id": "1f91746b",
   "metadata": {
    "execution": {
     "iopub.execute_input": "2021-08-13T04:53:38.393092Z",
     "iopub.status.busy": "2021-08-13T04:53:38.392487Z",
     "iopub.status.idle": "2021-08-13T04:53:38.396614Z",
     "shell.execute_reply": "2021-08-13T04:53:38.396161Z",
     "shell.execute_reply.started": "2021-08-07T18:38:16.123771Z"
    },
    "papermill": {
     "duration": 0.060285,
     "end_time": "2021-08-13T04:53:38.396740",
     "exception": false,
     "start_time": "2021-08-13T04:53:38.336455",
     "status": "completed"
    },
    "tags": []
   },
   "outputs": [
    {
     "data": {
      "text/html": [
       "<div>\n",
       "<style scoped>\n",
       "    .dataframe tbody tr th:only-of-type {\n",
       "        vertical-align: middle;\n",
       "    }\n",
       "\n",
       "    .dataframe tbody tr th {\n",
       "        vertical-align: top;\n",
       "    }\n",
       "\n",
       "    .dataframe thead th {\n",
       "        text-align: right;\n",
       "    }\n",
       "</style>\n",
       "<table border=\"1\" class=\"dataframe\">\n",
       "  <thead>\n",
       "    <tr style=\"text-align: right;\">\n",
       "      <th></th>\n",
       "      <th>stock_id</th>\n",
       "      <th>time_id</th>\n",
       "      <th>target</th>\n",
       "      <th>past_vol</th>\n",
       "      <th>past_trade_tot</th>\n",
       "    </tr>\n",
       "  </thead>\n",
       "  <tbody>\n",
       "    <tr>\n",
       "      <th>0</th>\n",
       "      <td>0</td>\n",
       "      <td>5</td>\n",
       "      <td>0.004136</td>\n",
       "      <td>0.004499</td>\n",
       "      <td>3190.139160</td>\n",
       "    </tr>\n",
       "    <tr>\n",
       "      <th>1</th>\n",
       "      <td>0</td>\n",
       "      <td>11</td>\n",
       "      <td>0.001445</td>\n",
       "      <td>0.001204</td>\n",
       "      <td>1289.353394</td>\n",
       "    </tr>\n",
       "    <tr>\n",
       "      <th>2</th>\n",
       "      <td>0</td>\n",
       "      <td>16</td>\n",
       "      <td>0.002168</td>\n",
       "      <td>0.002369</td>\n",
       "      <td>2158.608887</td>\n",
       "    </tr>\n",
       "    <tr>\n",
       "      <th>3</th>\n",
       "      <td>0</td>\n",
       "      <td>31</td>\n",
       "      <td>0.002195</td>\n",
       "      <td>0.002574</td>\n",
       "      <td>1959.605469</td>\n",
       "    </tr>\n",
       "    <tr>\n",
       "      <th>4</th>\n",
       "      <td>0</td>\n",
       "      <td>62</td>\n",
       "      <td>0.001747</td>\n",
       "      <td>0.001894</td>\n",
       "      <td>1790.254517</td>\n",
       "    </tr>\n",
       "  </tbody>\n",
       "</table>\n",
       "</div>"
      ],
      "text/plain": [
       "   stock_id  time_id    target  past_vol  past_trade_tot\n",
       "0         0        5  0.004136  0.004499     3190.139160\n",
       "1         0       11  0.001445  0.001204     1289.353394\n",
       "2         0       16  0.002168  0.002369     2158.608887\n",
       "3         0       31  0.002195  0.002574     1959.605469\n",
       "4         0       62  0.001747  0.001894     1790.254517"
      ]
     },
     "execution_count": 22,
     "metadata": {},
     "output_type": "execute_result"
    }
   ],
   "source": [
    "df_joined_new.head()"
   ]
  },
  {
   "cell_type": "code",
   "execution_count": 23,
   "id": "9eeb5fc9",
   "metadata": {
    "execution": {
     "iopub.execute_input": "2021-08-13T04:53:38.494955Z",
     "iopub.status.busy": "2021-08-13T04:53:38.494378Z",
     "iopub.status.idle": "2021-08-13T04:53:38.505633Z",
     "shell.execute_reply": "2021-08-13T04:53:38.505221Z",
     "shell.execute_reply.started": "2021-08-07T18:38:26.192904Z"
    },
    "papermill": {
     "duration": 0.061998,
     "end_time": "2021-08-13T04:53:38.505758",
     "exception": false,
     "start_time": "2021-08-13T04:53:38.443760",
     "status": "completed"
    },
    "tags": []
   },
   "outputs": [
    {
     "data": {
      "text/plain": [
       "stock_id           0\n",
       "time_id            0\n",
       "target             0\n",
       "past_vol           0\n",
       "past_trade_tot    19\n",
       "dtype: int64"
      ]
     },
     "execution_count": 23,
     "metadata": {},
     "output_type": "execute_result"
    }
   ],
   "source": [
    "df_joined_new.isnull().sum()"
   ]
  },
  {
   "cell_type": "code",
   "execution_count": 24,
   "id": "aee36de2",
   "metadata": {
    "execution": {
     "iopub.execute_input": "2021-08-13T04:53:38.605596Z",
     "iopub.status.busy": "2021-08-13T04:53:38.604781Z",
     "iopub.status.idle": "2021-08-13T04:53:38.609039Z",
     "shell.execute_reply": "2021-08-13T04:53:38.609430Z",
     "shell.execute_reply.started": "2021-08-07T18:38:28.062745Z"
    },
    "papermill": {
     "duration": 0.056434,
     "end_time": "2021-08-13T04:53:38.609584",
     "exception": false,
     "start_time": "2021-08-13T04:53:38.553150",
     "status": "completed"
    },
    "tags": []
   },
   "outputs": [],
   "source": [
    "df_joined_new.fillna(0, inplace=True)"
   ]
  },
  {
   "cell_type": "code",
   "execution_count": 25,
   "id": "3cf6183e",
   "metadata": {
    "execution": {
     "iopub.execute_input": "2021-08-13T04:53:38.710888Z",
     "iopub.status.busy": "2021-08-13T04:53:38.710290Z",
     "iopub.status.idle": "2021-08-13T04:53:38.719997Z",
     "shell.execute_reply": "2021-08-13T04:53:38.720454Z",
     "shell.execute_reply.started": "2021-08-07T18:38:29.296751Z"
    },
    "papermill": {
     "duration": 0.062488,
     "end_time": "2021-08-13T04:53:38.720601",
     "exception": false,
     "start_time": "2021-08-13T04:53:38.658113",
     "status": "completed"
    },
    "tags": []
   },
   "outputs": [
    {
     "data": {
      "text/plain": [
       "stock_id          0\n",
       "time_id           0\n",
       "target            0\n",
       "past_vol          0\n",
       "past_trade_tot    0\n",
       "dtype: int64"
      ]
     },
     "execution_count": 25,
     "metadata": {},
     "output_type": "execute_result"
    }
   ],
   "source": [
    "df_joined_new.isnull().sum()"
   ]
  },
  {
   "cell_type": "code",
   "execution_count": 26,
   "id": "c4089263",
   "metadata": {
    "execution": {
     "iopub.execute_input": "2021-08-13T04:53:38.817910Z",
     "iopub.status.busy": "2021-08-13T04:53:38.817352Z",
     "iopub.status.idle": "2021-08-13T04:53:40.593150Z",
     "shell.execute_reply": "2021-08-13T04:53:40.592570Z",
     "shell.execute_reply.started": "2021-08-07T18:38:34.342607Z"
    },
    "papermill": {
     "duration": 1.825391,
     "end_time": "2021-08-13T04:53:40.593294",
     "exception": false,
     "start_time": "2021-08-13T04:53:38.767903",
     "status": "completed"
    },
    "tags": []
   },
   "outputs": [],
   "source": [
    "from sklearn.model_selection import train_test_split\n",
    "from sklearn.preprocessing import MinMaxScaler\n",
    "from sklearn.feature_selection import RFE\n",
    "from sklearn.linear_model import LinearRegression\n",
    "import statsmodels.api as sm\n",
    "from statsmodels.stats.outliers_influence import variance_inflation_factor\n",
    "from sklearn.metrics import r2_score\n",
    "import warnings\n",
    "warnings.filterwarnings('ignore')"
   ]
  },
  {
   "cell_type": "code",
   "execution_count": 27,
   "id": "34278c3f",
   "metadata": {
    "execution": {
     "iopub.execute_input": "2021-08-13T04:53:40.695165Z",
     "iopub.status.busy": "2021-08-13T04:53:40.694368Z",
     "iopub.status.idle": "2021-08-13T04:53:40.732336Z",
     "shell.execute_reply": "2021-08-13T04:53:40.731699Z",
     "shell.execute_reply.started": "2021-08-07T18:38:35.991702Z"
    },
    "papermill": {
     "duration": 0.091834,
     "end_time": "2021-08-13T04:53:40.732471",
     "exception": false,
     "start_time": "2021-08-13T04:53:40.640637",
     "status": "completed"
    },
    "tags": []
   },
   "outputs": [],
   "source": [
    "np.random.seed(0) # to select same sample everytime\n",
    "df_train, df_test = train_test_split(df_joined_new, train_size=0.7, test_size=0.3, random_state=42)"
   ]
  },
  {
   "cell_type": "code",
   "execution_count": 28,
   "id": "4058fe3c",
   "metadata": {
    "execution": {
     "iopub.execute_input": "2021-08-13T04:53:40.833074Z",
     "iopub.status.busy": "2021-08-13T04:53:40.832244Z",
     "iopub.status.idle": "2021-08-13T04:53:40.835801Z",
     "shell.execute_reply": "2021-08-13T04:53:40.835245Z",
     "shell.execute_reply.started": "2021-08-07T18:38:37.105497Z"
    },
    "papermill": {
     "duration": 0.055867,
     "end_time": "2021-08-13T04:53:40.835954",
     "exception": false,
     "start_time": "2021-08-13T04:53:40.780087",
     "status": "completed"
    },
    "tags": []
   },
   "outputs": [
    {
     "name": "stdout",
     "output_type": "stream",
     "text": [
      "(300252, 5)\n",
      "(128680, 5)\n"
     ]
    }
   ],
   "source": [
    "print(df_train.shape)\n",
    "print(df_test.shape)"
   ]
  },
  {
   "cell_type": "code",
   "execution_count": 29,
   "id": "65c0ff1e",
   "metadata": {
    "execution": {
     "iopub.execute_input": "2021-08-13T04:53:40.938824Z",
     "iopub.status.busy": "2021-08-13T04:53:40.937892Z",
     "iopub.status.idle": "2021-08-13T04:53:40.952347Z",
     "shell.execute_reply": "2021-08-13T04:53:40.953032Z",
     "shell.execute_reply.started": "2021-08-07T18:38:38.255415Z"
    },
    "papermill": {
     "duration": 0.068721,
     "end_time": "2021-08-13T04:53:40.953239",
     "exception": false,
     "start_time": "2021-08-13T04:53:40.884518",
     "status": "completed"
    },
    "tags": []
   },
   "outputs": [
    {
     "name": "stdout",
     "output_type": "stream",
     "text": [
      "<class 'pandas.core.frame.DataFrame'>\n",
      "Int64Index: 300252 entries, 148183 to 121958\n",
      "Data columns (total 5 columns):\n",
      " #   Column          Non-Null Count   Dtype  \n",
      "---  ------          --------------   -----  \n",
      " 0   stock_id        300252 non-null  int64  \n",
      " 1   time_id         300252 non-null  int64  \n",
      " 2   target          300252 non-null  float64\n",
      " 3   past_vol        300252 non-null  float32\n",
      " 4   past_trade_tot  300252 non-null  float32\n",
      "dtypes: float32(2), float64(1), int64(2)\n",
      "memory usage: 11.5 MB\n"
     ]
    }
   ],
   "source": [
    "df_train.info()"
   ]
  },
  {
   "cell_type": "code",
   "execution_count": 30,
   "id": "c0e04885",
   "metadata": {
    "execution": {
     "iopub.execute_input": "2021-08-13T04:53:41.055242Z",
     "iopub.status.busy": "2021-08-13T04:53:41.054369Z",
     "iopub.status.idle": "2021-08-13T04:53:41.066776Z",
     "shell.execute_reply": "2021-08-13T04:53:41.066257Z",
     "shell.execute_reply.started": "2021-08-07T18:38:39.344136Z"
    },
    "papermill": {
     "duration": 0.065456,
     "end_time": "2021-08-13T04:53:41.066918",
     "exception": false,
     "start_time": "2021-08-13T04:53:41.001462",
     "status": "completed"
    },
    "tags": []
   },
   "outputs": [
    {
     "name": "stdout",
     "output_type": "stream",
     "text": [
      "<class 'pandas.core.frame.DataFrame'>\n",
      "Int64Index: 128680 entries, 58607 to 204608\n",
      "Data columns (total 5 columns):\n",
      " #   Column          Non-Null Count   Dtype  \n",
      "---  ------          --------------   -----  \n",
      " 0   stock_id        128680 non-null  int64  \n",
      " 1   time_id         128680 non-null  int64  \n",
      " 2   target          128680 non-null  float64\n",
      " 3   past_vol        128680 non-null  float32\n",
      " 4   past_trade_tot  128680 non-null  float32\n",
      "dtypes: float32(2), float64(1), int64(2)\n",
      "memory usage: 4.9 MB\n"
     ]
    }
   ],
   "source": [
    "df_test.info()"
   ]
  },
  {
   "cell_type": "code",
   "execution_count": 31,
   "id": "8bf1d930",
   "metadata": {
    "execution": {
     "iopub.execute_input": "2021-08-13T04:53:41.168736Z",
     "iopub.status.busy": "2021-08-13T04:53:41.167897Z",
     "iopub.status.idle": "2021-08-13T04:53:41.170766Z",
     "shell.execute_reply": "2021-08-13T04:53:41.170228Z",
     "shell.execute_reply.started": "2021-08-07T18:38:40.994635Z"
    },
    "papermill": {
     "duration": 0.054837,
     "end_time": "2021-08-13T04:53:41.170907",
     "exception": false,
     "start_time": "2021-08-13T04:53:41.116070",
     "status": "completed"
    },
    "tags": []
   },
   "outputs": [],
   "source": [
    "scaler = MinMaxScaler()"
   ]
  },
  {
   "cell_type": "code",
   "execution_count": 32,
   "id": "a2c40a40",
   "metadata": {
    "execution": {
     "iopub.execute_input": "2021-08-13T04:53:41.271545Z",
     "iopub.status.busy": "2021-08-13T04:53:41.270935Z",
     "iopub.status.idle": "2021-08-13T04:53:41.273445Z",
     "shell.execute_reply": "2021-08-13T04:53:41.272887Z",
     "shell.execute_reply.started": "2021-08-07T18:38:42.114265Z"
    },
    "papermill": {
     "duration": 0.054318,
     "end_time": "2021-08-13T04:53:41.273573",
     "exception": false,
     "start_time": "2021-08-13T04:53:41.219255",
     "status": "completed"
    },
    "tags": []
   },
   "outputs": [],
   "source": [
    "#num_vars = ['stock_id', 'time_id', 'target', 'past_vol']\n",
    "#df_train[num_vars] = scaler.fit_transform(df_train[num_vars])"
   ]
  },
  {
   "cell_type": "code",
   "execution_count": 33,
   "id": "b255e8b9",
   "metadata": {
    "execution": {
     "iopub.execute_input": "2021-08-13T04:53:41.376030Z",
     "iopub.status.busy": "2021-08-13T04:53:41.375430Z",
     "iopub.status.idle": "2021-08-13T04:53:41.378788Z",
     "shell.execute_reply": "2021-08-13T04:53:41.378357Z",
     "shell.execute_reply.started": "2021-08-07T18:38:43.154946Z"
    },
    "papermill": {
     "duration": 0.056945,
     "end_time": "2021-08-13T04:53:41.378939",
     "exception": false,
     "start_time": "2021-08-13T04:53:41.321994",
     "status": "completed"
    },
    "tags": []
   },
   "outputs": [],
   "source": [
    "## Dividing into X & y sets for model building\n",
    "\n",
    "y_train = df_train.pop('target')\n",
    "X_train = df_train"
   ]
  },
  {
   "cell_type": "code",
   "execution_count": 34,
   "id": "9b36944b",
   "metadata": {
    "execution": {
     "iopub.execute_input": "2021-08-13T04:53:41.480030Z",
     "iopub.status.busy": "2021-08-13T04:53:41.479179Z",
     "iopub.status.idle": "2021-08-13T04:53:41.487427Z",
     "shell.execute_reply": "2021-08-13T04:53:41.487803Z",
     "shell.execute_reply.started": "2021-08-07T18:38:44.299482Z"
    },
    "papermill": {
     "duration": 0.060941,
     "end_time": "2021-08-13T04:53:41.487982",
     "exception": false,
     "start_time": "2021-08-13T04:53:41.427041",
     "status": "completed"
    },
    "tags": []
   },
   "outputs": [
    {
     "data": {
      "text/plain": [
       "stock_id          0\n",
       "time_id           0\n",
       "past_vol          0\n",
       "past_trade_tot    0\n",
       "dtype: int64"
      ]
     },
     "execution_count": 34,
     "metadata": {},
     "output_type": "execute_result"
    }
   ],
   "source": [
    "X_train.isnull().sum()"
   ]
  },
  {
   "cell_type": "code",
   "execution_count": 35,
   "id": "c84a8573",
   "metadata": {
    "execution": {
     "iopub.execute_input": "2021-08-13T04:53:41.589204Z",
     "iopub.status.busy": "2021-08-13T04:53:41.588578Z",
     "iopub.status.idle": "2021-08-13T04:53:41.594477Z",
     "shell.execute_reply": "2021-08-13T04:53:41.593910Z",
     "shell.execute_reply.started": "2021-08-07T18:38:45.149186Z"
    },
    "papermill": {
     "duration": 0.057911,
     "end_time": "2021-08-13T04:53:41.594606",
     "exception": false,
     "start_time": "2021-08-13T04:53:41.536695",
     "status": "completed"
    },
    "tags": []
   },
   "outputs": [
    {
     "data": {
      "text/plain": [
       "0"
      ]
     },
     "execution_count": 35,
     "metadata": {},
     "output_type": "execute_result"
    }
   ],
   "source": [
    "y_train.isnull().sum()"
   ]
  },
  {
   "cell_type": "code",
   "execution_count": 36,
   "id": "c9d1b577",
   "metadata": {
    "execution": {
     "iopub.execute_input": "2021-08-13T04:53:41.702343Z",
     "iopub.status.busy": "2021-08-13T04:53:41.701271Z",
     "iopub.status.idle": "2021-08-13T04:53:41.914017Z",
     "shell.execute_reply": "2021-08-13T04:53:41.913405Z",
     "shell.execute_reply.started": "2021-08-07T18:38:46.014914Z"
    },
    "papermill": {
     "duration": 0.268992,
     "end_time": "2021-08-13T04:53:41.914190",
     "exception": false,
     "start_time": "2021-08-13T04:53:41.645198",
     "status": "completed"
    },
    "tags": []
   },
   "outputs": [
    {
     "data": {
      "text/plain": [
       "LinearRegression()"
      ]
     },
     "execution_count": 36,
     "metadata": {},
     "output_type": "execute_result"
    }
   ],
   "source": [
    "## Fitting the model\n",
    "\n",
    "lm = LinearRegression()\n",
    "lm.fit(X_train, y_train)\n",
    "#print(X_train.info())\n",
    "#print(y_train.info())"
   ]
  },
  {
   "cell_type": "code",
   "execution_count": 37,
   "id": "30ea79ca",
   "metadata": {
    "execution": {
     "iopub.execute_input": "2021-08-13T04:53:42.022992Z",
     "iopub.status.busy": "2021-08-13T04:53:42.021965Z",
     "iopub.status.idle": "2021-08-13T04:53:42.052417Z",
     "shell.execute_reply": "2021-08-13T04:53:42.051909Z",
     "shell.execute_reply.started": "2021-08-07T18:38:46.889635Z"
    },
    "papermill": {
     "duration": 0.08661,
     "end_time": "2021-08-13T04:53:42.052552",
     "exception": false,
     "start_time": "2021-08-13T04:53:41.965942",
     "status": "completed"
    },
    "tags": []
   },
   "outputs": [
    {
     "data": {
      "text/plain": [
       "RFE(estimator=LinearRegression(), n_features_to_select=4)"
      ]
     },
     "execution_count": 37,
     "metadata": {},
     "output_type": "execute_result"
    }
   ],
   "source": [
    "rfe = RFE(lm, 4)\n",
    "rfe.fit(X_train, y_train)"
   ]
  },
  {
   "cell_type": "code",
   "execution_count": 38,
   "id": "237a2376",
   "metadata": {
    "execution": {
     "iopub.execute_input": "2021-08-13T04:53:42.157626Z",
     "iopub.status.busy": "2021-08-13T04:53:42.157024Z",
     "iopub.status.idle": "2021-08-13T04:53:42.160285Z",
     "shell.execute_reply": "2021-08-13T04:53:42.159741Z",
     "shell.execute_reply.started": "2021-08-07T18:38:48.210524Z"
    },
    "papermill": {
     "duration": 0.058385,
     "end_time": "2021-08-13T04:53:42.160420",
     "exception": false,
     "start_time": "2021-08-13T04:53:42.102035",
     "status": "completed"
    },
    "tags": []
   },
   "outputs": [
    {
     "data": {
      "text/plain": [
       "[('stock_id', True, 1),\n",
       " ('time_id', True, 1),\n",
       " ('past_vol', True, 1),\n",
       " ('past_trade_tot', True, 1)]"
      ]
     },
     "execution_count": 38,
     "metadata": {},
     "output_type": "execute_result"
    }
   ],
   "source": [
    "list(zip(X_train.columns,rfe.support_, rfe.ranking_))"
   ]
  },
  {
   "cell_type": "code",
   "execution_count": 39,
   "id": "b698c3e1",
   "metadata": {
    "execution": {
     "iopub.execute_input": "2021-08-13T04:53:42.264925Z",
     "iopub.status.busy": "2021-08-13T04:53:42.264369Z",
     "iopub.status.idle": "2021-08-13T04:53:42.270395Z",
     "shell.execute_reply": "2021-08-13T04:53:42.269938Z",
     "shell.execute_reply.started": "2021-08-07T18:38:49.027868Z"
    },
    "papermill": {
     "duration": 0.059204,
     "end_time": "2021-08-13T04:53:42.270540",
     "exception": false,
     "start_time": "2021-08-13T04:53:42.211336",
     "status": "completed"
    },
    "tags": []
   },
   "outputs": [
    {
     "data": {
      "text/plain": [
       "Index(['stock_id', 'time_id', 'past_vol', 'past_trade_tot'], dtype='object')"
      ]
     },
     "execution_count": 39,
     "metadata": {},
     "output_type": "execute_result"
    }
   ],
   "source": [
    "col = X_train.columns[rfe.support_]\n",
    "col"
   ]
  },
  {
   "cell_type": "code",
   "execution_count": 40,
   "id": "423e64e5",
   "metadata": {
    "execution": {
     "iopub.execute_input": "2021-08-13T04:53:42.377144Z",
     "iopub.status.busy": "2021-08-13T04:53:42.376562Z",
     "iopub.status.idle": "2021-08-13T04:53:42.378455Z",
     "shell.execute_reply": "2021-08-13T04:53:42.378964Z",
     "shell.execute_reply.started": "2021-08-07T18:38:49.809422Z"
    },
    "papermill": {
     "duration": 0.058634,
     "end_time": "2021-08-13T04:53:42.379122",
     "exception": false,
     "start_time": "2021-08-13T04:53:42.320488",
     "status": "completed"
    },
    "tags": []
   },
   "outputs": [],
   "source": [
    "X_train_rfe = X_train[col]"
   ]
  },
  {
   "cell_type": "code",
   "execution_count": 41,
   "id": "6012003c",
   "metadata": {
    "execution": {
     "iopub.execute_input": "2021-08-13T04:53:42.481906Z",
     "iopub.status.busy": "2021-08-13T04:53:42.481311Z",
     "iopub.status.idle": "2021-08-13T04:53:42.812276Z",
     "shell.execute_reply": "2021-08-13T04:53:42.814197Z",
     "shell.execute_reply.started": "2021-08-07T18:38:50.746554Z"
    },
    "papermill": {
     "duration": 0.385227,
     "end_time": "2021-08-13T04:53:42.814470",
     "exception": false,
     "start_time": "2021-08-13T04:53:42.429243",
     "status": "completed"
    },
    "tags": []
   },
   "outputs": [
    {
     "data": {
      "text/html": [
       "<div>\n",
       "<style scoped>\n",
       "    .dataframe tbody tr th:only-of-type {\n",
       "        vertical-align: middle;\n",
       "    }\n",
       "\n",
       "    .dataframe tbody tr th {\n",
       "        vertical-align: top;\n",
       "    }\n",
       "\n",
       "    .dataframe thead th {\n",
       "        text-align: right;\n",
       "    }\n",
       "</style>\n",
       "<table border=\"1\" class=\"dataframe\">\n",
       "  <thead>\n",
       "    <tr style=\"text-align: right;\">\n",
       "      <th></th>\n",
       "      <th>Features</th>\n",
       "      <th>VIF</th>\n",
       "    </tr>\n",
       "  </thead>\n",
       "  <tbody>\n",
       "    <tr>\n",
       "      <th>1</th>\n",
       "      <td>time_id</td>\n",
       "      <td>2.55</td>\n",
       "    </tr>\n",
       "    <tr>\n",
       "      <th>0</th>\n",
       "      <td>stock_id</td>\n",
       "      <td>2.51</td>\n",
       "    </tr>\n",
       "    <tr>\n",
       "      <th>2</th>\n",
       "      <td>past_vol</td>\n",
       "      <td>2.00</td>\n",
       "    </tr>\n",
       "    <tr>\n",
       "      <th>3</th>\n",
       "      <td>past_trade_tot</td>\n",
       "      <td>1.19</td>\n",
       "    </tr>\n",
       "  </tbody>\n",
       "</table>\n",
       "</div>"
      ],
      "text/plain": [
       "         Features   VIF\n",
       "1         time_id  2.55\n",
       "0        stock_id  2.51\n",
       "2        past_vol  2.00\n",
       "3  past_trade_tot  1.19"
      ]
     },
     "execution_count": 41,
     "metadata": {},
     "output_type": "execute_result"
    }
   ],
   "source": [
    "vif = pd.DataFrame()\n",
    "X = X_train_rfe\n",
    "vif['Features'] = X.columns\n",
    "vif['VIF'] = [variance_inflation_factor(X.values, i) for i in range(X.shape[1])]\n",
    "vif['VIF'] = round(vif['VIF'], 2)\n",
    "vif = vif.sort_values(by = \"VIF\", ascending = False)\n",
    "vif"
   ]
  },
  {
   "cell_type": "code",
   "execution_count": 42,
   "id": "559463ee",
   "metadata": {
    "execution": {
     "iopub.execute_input": "2021-08-13T04:53:42.975866Z",
     "iopub.status.busy": "2021-08-13T04:53:42.975251Z",
     "iopub.status.idle": "2021-08-13T04:53:42.977861Z",
     "shell.execute_reply": "2021-08-13T04:53:42.978340Z",
     "shell.execute_reply.started": "2021-08-07T18:38:51.647663Z"
    },
    "papermill": {
     "duration": 0.066142,
     "end_time": "2021-08-13T04:53:42.978500",
     "exception": false,
     "start_time": "2021-08-13T04:53:42.912358",
     "status": "completed"
    },
    "tags": []
   },
   "outputs": [
    {
     "data": {
      "text/html": [
       "<div>\n",
       "<style scoped>\n",
       "    .dataframe tbody tr th:only-of-type {\n",
       "        vertical-align: middle;\n",
       "    }\n",
       "\n",
       "    .dataframe tbody tr th {\n",
       "        vertical-align: top;\n",
       "    }\n",
       "\n",
       "    .dataframe thead th {\n",
       "        text-align: right;\n",
       "    }\n",
       "</style>\n",
       "<table border=\"1\" class=\"dataframe\">\n",
       "  <thead>\n",
       "    <tr style=\"text-align: right;\">\n",
       "      <th></th>\n",
       "      <th>stock_id</th>\n",
       "      <th>time_id</th>\n",
       "      <th>past_vol</th>\n",
       "      <th>past_trade_tot</th>\n",
       "    </tr>\n",
       "  </thead>\n",
       "  <tbody>\n",
       "    <tr>\n",
       "      <th>148183</th>\n",
       "      <td>41</td>\n",
       "      <td>22126</td>\n",
       "      <td>0.001072</td>\n",
       "      <td>25413.822266</td>\n",
       "    </tr>\n",
       "    <tr>\n",
       "      <th>104510</th>\n",
       "      <td>30</td>\n",
       "      <td>9215</td>\n",
       "      <td>0.005446</td>\n",
       "      <td>2966.402832</td>\n",
       "    </tr>\n",
       "    <tr>\n",
       "      <th>390565</th>\n",
       "      <td>114</td>\n",
       "      <td>32186</td>\n",
       "      <td>0.024367</td>\n",
       "      <td>25286.845703</td>\n",
       "    </tr>\n",
       "    <tr>\n",
       "      <th>123863</th>\n",
       "      <td>35</td>\n",
       "      <td>11007</td>\n",
       "      <td>0.002135</td>\n",
       "      <td>46201.609375</td>\n",
       "    </tr>\n",
       "    <tr>\n",
       "      <th>276632</th>\n",
       "      <td>82</td>\n",
       "      <td>7316</td>\n",
       "      <td>0.005720</td>\n",
       "      <td>17465.380859</td>\n",
       "    </tr>\n",
       "    <tr>\n",
       "      <th>...</th>\n",
       "      <td>...</td>\n",
       "      <td>...</td>\n",
       "      <td>...</td>\n",
       "      <td>...</td>\n",
       "    </tr>\n",
       "    <tr>\n",
       "      <th>259178</th>\n",
       "      <td>76</td>\n",
       "      <td>21439</td>\n",
       "      <td>0.003456</td>\n",
       "      <td>7832.736816</td>\n",
       "    </tr>\n",
       "    <tr>\n",
       "      <th>365838</th>\n",
       "      <td>108</td>\n",
       "      <td>16733</td>\n",
       "      <td>0.001024</td>\n",
       "      <td>17715.046875</td>\n",
       "    </tr>\n",
       "    <tr>\n",
       "      <th>131932</th>\n",
       "      <td>37</td>\n",
       "      <td>14273</td>\n",
       "      <td>0.002124</td>\n",
       "      <td>40.079678</td>\n",
       "    </tr>\n",
       "    <tr>\n",
       "      <th>146867</th>\n",
       "      <td>41</td>\n",
       "      <td>11351</td>\n",
       "      <td>0.001252</td>\n",
       "      <td>126631.554688</td>\n",
       "    </tr>\n",
       "    <tr>\n",
       "      <th>121958</th>\n",
       "      <td>34</td>\n",
       "      <td>27095</td>\n",
       "      <td>0.001097</td>\n",
       "      <td>12086.134766</td>\n",
       "    </tr>\n",
       "  </tbody>\n",
       "</table>\n",
       "<p>300252 rows × 4 columns</p>\n",
       "</div>"
      ],
      "text/plain": [
       "        stock_id  time_id  past_vol  past_trade_tot\n",
       "148183        41    22126  0.001072    25413.822266\n",
       "104510        30     9215  0.005446     2966.402832\n",
       "390565       114    32186  0.024367    25286.845703\n",
       "123863        35    11007  0.002135    46201.609375\n",
       "276632        82     7316  0.005720    17465.380859\n",
       "...          ...      ...       ...             ...\n",
       "259178        76    21439  0.003456     7832.736816\n",
       "365838       108    16733  0.001024    17715.046875\n",
       "131932        37    14273  0.002124       40.079678\n",
       "146867        41    11351  0.001252   126631.554688\n",
       "121958        34    27095  0.001097    12086.134766\n",
       "\n",
       "[300252 rows x 4 columns]"
      ]
     },
     "execution_count": 42,
     "metadata": {},
     "output_type": "execute_result"
    }
   ],
   "source": [
    "X_train_rfe"
   ]
  },
  {
   "cell_type": "code",
   "execution_count": 43,
   "id": "d1f9a2af",
   "metadata": {
    "execution": {
     "iopub.execute_input": "2021-08-13T04:53:43.083615Z",
     "iopub.status.busy": "2021-08-13T04:53:43.083080Z",
     "iopub.status.idle": "2021-08-13T04:53:43.180948Z",
     "shell.execute_reply": "2021-08-13T04:53:43.181765Z",
     "shell.execute_reply.started": "2021-08-07T18:38:52.573689Z"
    },
    "papermill": {
     "duration": 0.15256,
     "end_time": "2021-08-13T04:53:43.182044",
     "exception": false,
     "start_time": "2021-08-13T04:53:43.029484",
     "status": "completed"
    },
    "tags": []
   },
   "outputs": [],
   "source": [
    "## First model\n",
    "\n",
    "# Adding a constant variable \n",
    "X_train_lm = sm.add_constant(X_train_rfe)\n",
    "\n",
    "## Running the model\n",
    "lm1 = sm.OLS(y_train, X_train_lm).fit()"
   ]
  },
  {
   "cell_type": "code",
   "execution_count": 44,
   "id": "359da37f",
   "metadata": {
    "execution": {
     "iopub.execute_input": "2021-08-13T04:53:43.344138Z",
     "iopub.status.busy": "2021-08-13T04:53:43.342995Z",
     "iopub.status.idle": "2021-08-13T04:53:43.389663Z",
     "shell.execute_reply": "2021-08-13T04:53:43.390560Z",
     "shell.execute_reply.started": "2021-08-07T18:38:53.635067Z"
    },
    "papermill": {
     "duration": 0.107798,
     "end_time": "2021-08-13T04:53:43.390838",
     "exception": false,
     "start_time": "2021-08-13T04:53:43.283040",
     "status": "completed"
    },
    "tags": []
   },
   "outputs": [
    {
     "data": {
      "text/html": [
       "<table class=\"simpletable\">\n",
       "<caption>OLS Regression Results</caption>\n",
       "<tr>\n",
       "  <th>Dep. Variable:</th>         <td>target</td>      <th>  R-squared:         </th>  <td>   0.766</td> \n",
       "</tr>\n",
       "<tr>\n",
       "  <th>Model:</th>                   <td>OLS</td>       <th>  Adj. R-squared:    </th>  <td>   0.766</td> \n",
       "</tr>\n",
       "<tr>\n",
       "  <th>Method:</th>             <td>Least Squares</td>  <th>  F-statistic:       </th>  <td>2.451e+05</td>\n",
       "</tr>\n",
       "<tr>\n",
       "  <th>Date:</th>             <td>Fri, 13 Aug 2021</td> <th>  Prob (F-statistic):</th>   <td>  0.00</td>  \n",
       "</tr>\n",
       "<tr>\n",
       "  <th>Time:</th>                 <td>04:53:43</td>     <th>  Log-Likelihood:    </th> <td>1.5423e+06</td>\n",
       "</tr>\n",
       "<tr>\n",
       "  <th>No. Observations:</th>      <td>300252</td>      <th>  AIC:               </th> <td>-3.085e+06</td>\n",
       "</tr>\n",
       "<tr>\n",
       "  <th>Df Residuals:</th>          <td>300247</td>      <th>  BIC:               </th> <td>-3.085e+06</td>\n",
       "</tr>\n",
       "<tr>\n",
       "  <th>Df Model:</th>              <td>     4</td>      <th>                     </th>      <td> </td>    \n",
       "</tr>\n",
       "<tr>\n",
       "  <th>Covariance Type:</th>      <td>nonrobust</td>    <th>                     </th>      <td> </td>    \n",
       "</tr>\n",
       "</table>\n",
       "<table class=\"simpletable\">\n",
       "<tr>\n",
       "         <td></td>           <th>coef</th>     <th>std err</th>      <th>t</th>      <th>P>|t|</th>  <th>[0.025</th>    <th>0.975]</th>  \n",
       "</tr>\n",
       "<tr>\n",
       "  <th>const</th>          <td>    0.0009</td> <td> 7.52e-06</td> <td>  120.547</td> <td> 0.000</td> <td>    0.001</td> <td>    0.001</td>\n",
       "</tr>\n",
       "<tr>\n",
       "  <th>stock_id</th>       <td>-3.636e-07</td> <td> 6.99e-08</td> <td>   -5.200</td> <td> 0.000</td> <td>-5.01e-07</td> <td>-2.27e-07</td>\n",
       "</tr>\n",
       "<tr>\n",
       "  <th>time_id</th>        <td>-1.733e-09</td> <td> 2.77e-10</td> <td>   -6.258</td> <td> 0.000</td> <td>-2.28e-09</td> <td>-1.19e-09</td>\n",
       "</tr>\n",
       "<tr>\n",
       "  <th>past_vol</th>       <td>    0.7200</td> <td>    0.001</td> <td>  988.924</td> <td> 0.000</td> <td>    0.719</td> <td>    0.721</td>\n",
       "</tr>\n",
       "<tr>\n",
       "  <th>past_trade_tot</th> <td> -7.34e-10</td> <td> 3.67e-11</td> <td>  -19.982</td> <td> 0.000</td> <td>-8.06e-10</td> <td>-6.62e-10</td>\n",
       "</tr>\n",
       "</table>\n",
       "<table class=\"simpletable\">\n",
       "<tr>\n",
       "  <th>Omnibus:</th>       <td>183348.845</td> <th>  Durbin-Watson:     </th>   <td>   2.005</td>  \n",
       "</tr>\n",
       "<tr>\n",
       "  <th>Prob(Omnibus):</th>   <td> 0.000</td>   <th>  Jarque-Bera (JB):  </th> <td>35582853.164</td>\n",
       "</tr>\n",
       "<tr>\n",
       "  <th>Skew:</th>            <td> 1.882</td>   <th>  Prob(JB):          </th>   <td>    0.00</td>  \n",
       "</tr>\n",
       "<tr>\n",
       "  <th>Kurtosis:</th>        <td>56.198</td>   <th>  Cond. No.          </th>   <td>2.19e+07</td>  \n",
       "</tr>\n",
       "</table><br/><br/>Notes:<br/>[1] Standard Errors assume that the covariance matrix of the errors is correctly specified.<br/>[2] The condition number is large, 2.19e+07. This might indicate that there are<br/>strong multicollinearity or other numerical problems."
      ],
      "text/plain": [
       "<class 'statsmodels.iolib.summary.Summary'>\n",
       "\"\"\"\n",
       "                            OLS Regression Results                            \n",
       "==============================================================================\n",
       "Dep. Variable:                 target   R-squared:                       0.766\n",
       "Model:                            OLS   Adj. R-squared:                  0.766\n",
       "Method:                 Least Squares   F-statistic:                 2.451e+05\n",
       "Date:                Fri, 13 Aug 2021   Prob (F-statistic):               0.00\n",
       "Time:                        04:53:43   Log-Likelihood:             1.5423e+06\n",
       "No. Observations:              300252   AIC:                        -3.085e+06\n",
       "Df Residuals:                  300247   BIC:                        -3.085e+06\n",
       "Df Model:                           4                                         \n",
       "Covariance Type:            nonrobust                                         \n",
       "==================================================================================\n",
       "                     coef    std err          t      P>|t|      [0.025      0.975]\n",
       "----------------------------------------------------------------------------------\n",
       "const              0.0009   7.52e-06    120.547      0.000       0.001       0.001\n",
       "stock_id       -3.636e-07   6.99e-08     -5.200      0.000   -5.01e-07   -2.27e-07\n",
       "time_id        -1.733e-09   2.77e-10     -6.258      0.000   -2.28e-09   -1.19e-09\n",
       "past_vol           0.7200      0.001    988.924      0.000       0.719       0.721\n",
       "past_trade_tot  -7.34e-10   3.67e-11    -19.982      0.000   -8.06e-10   -6.62e-10\n",
       "==============================================================================\n",
       "Omnibus:                   183348.845   Durbin-Watson:                   2.005\n",
       "Prob(Omnibus):                  0.000   Jarque-Bera (JB):         35582853.164\n",
       "Skew:                           1.882   Prob(JB):                         0.00\n",
       "Kurtosis:                      56.198   Cond. No.                     2.19e+07\n",
       "==============================================================================\n",
       "\n",
       "Notes:\n",
       "[1] Standard Errors assume that the covariance matrix of the errors is correctly specified.\n",
       "[2] The condition number is large, 2.19e+07. This might indicate that there are\n",
       "strong multicollinearity or other numerical problems.\n",
       "\"\"\""
      ]
     },
     "execution_count": 44,
     "metadata": {},
     "output_type": "execute_result"
    }
   ],
   "source": [
    "lm1.summary()"
   ]
  },
  {
   "cell_type": "code",
   "execution_count": 45,
   "id": "845dba10",
   "metadata": {
    "execution": {
     "iopub.execute_input": "2021-08-13T04:53:43.544655Z",
     "iopub.status.busy": "2021-08-13T04:53:43.543366Z",
     "iopub.status.idle": "2021-08-13T04:53:43.549950Z",
     "shell.execute_reply": "2021-08-13T04:53:43.549203Z",
     "shell.execute_reply.started": "2021-08-07T18:38:54.601857Z"
    },
    "papermill": {
     "duration": 0.062759,
     "end_time": "2021-08-13T04:53:43.550169",
     "exception": false,
     "start_time": "2021-08-13T04:53:43.487410",
     "status": "completed"
    },
    "tags": []
   },
   "outputs": [],
   "source": [
    "y_train_pred = lm1.predict(X_train_lm)"
   ]
  },
  {
   "cell_type": "code",
   "execution_count": 46,
   "id": "b138c24e",
   "metadata": {
    "execution": {
     "iopub.execute_input": "2021-08-13T04:53:43.719654Z",
     "iopub.status.busy": "2021-08-13T04:53:43.718736Z",
     "iopub.status.idle": "2021-08-13T04:53:43.723004Z",
     "shell.execute_reply": "2021-08-13T04:53:43.723457Z",
     "shell.execute_reply.started": "2021-08-07T18:38:55.588492Z"
    },
    "papermill": {
     "duration": 0.075923,
     "end_time": "2021-08-13T04:53:43.723607",
     "exception": false,
     "start_time": "2021-08-13T04:53:43.647684",
     "status": "completed"
    },
    "tags": []
   },
   "outputs": [
    {
     "data": {
      "text/html": [
       "<div>\n",
       "<style scoped>\n",
       "    .dataframe tbody tr th:only-of-type {\n",
       "        vertical-align: middle;\n",
       "    }\n",
       "\n",
       "    .dataframe tbody tr th {\n",
       "        vertical-align: top;\n",
       "    }\n",
       "\n",
       "    .dataframe thead th {\n",
       "        text-align: right;\n",
       "    }\n",
       "</style>\n",
       "<table border=\"1\" class=\"dataframe\">\n",
       "  <thead>\n",
       "    <tr style=\"text-align: right;\">\n",
       "      <th></th>\n",
       "      <th>const</th>\n",
       "      <th>stock_id</th>\n",
       "      <th>time_id</th>\n",
       "      <th>past_vol</th>\n",
       "      <th>past_trade_tot</th>\n",
       "    </tr>\n",
       "  </thead>\n",
       "  <tbody>\n",
       "    <tr>\n",
       "      <th>148183</th>\n",
       "      <td>1.0</td>\n",
       "      <td>41</td>\n",
       "      <td>22126</td>\n",
       "      <td>0.001072</td>\n",
       "      <td>25413.822266</td>\n",
       "    </tr>\n",
       "    <tr>\n",
       "      <th>104510</th>\n",
       "      <td>1.0</td>\n",
       "      <td>30</td>\n",
       "      <td>9215</td>\n",
       "      <td>0.005446</td>\n",
       "      <td>2966.402832</td>\n",
       "    </tr>\n",
       "    <tr>\n",
       "      <th>390565</th>\n",
       "      <td>1.0</td>\n",
       "      <td>114</td>\n",
       "      <td>32186</td>\n",
       "      <td>0.024367</td>\n",
       "      <td>25286.845703</td>\n",
       "    </tr>\n",
       "    <tr>\n",
       "      <th>123863</th>\n",
       "      <td>1.0</td>\n",
       "      <td>35</td>\n",
       "      <td>11007</td>\n",
       "      <td>0.002135</td>\n",
       "      <td>46201.609375</td>\n",
       "    </tr>\n",
       "    <tr>\n",
       "      <th>276632</th>\n",
       "      <td>1.0</td>\n",
       "      <td>82</td>\n",
       "      <td>7316</td>\n",
       "      <td>0.005720</td>\n",
       "      <td>17465.380859</td>\n",
       "    </tr>\n",
       "    <tr>\n",
       "      <th>...</th>\n",
       "      <td>...</td>\n",
       "      <td>...</td>\n",
       "      <td>...</td>\n",
       "      <td>...</td>\n",
       "      <td>...</td>\n",
       "    </tr>\n",
       "    <tr>\n",
       "      <th>259178</th>\n",
       "      <td>1.0</td>\n",
       "      <td>76</td>\n",
       "      <td>21439</td>\n",
       "      <td>0.003456</td>\n",
       "      <td>7832.736816</td>\n",
       "    </tr>\n",
       "    <tr>\n",
       "      <th>365838</th>\n",
       "      <td>1.0</td>\n",
       "      <td>108</td>\n",
       "      <td>16733</td>\n",
       "      <td>0.001024</td>\n",
       "      <td>17715.046875</td>\n",
       "    </tr>\n",
       "    <tr>\n",
       "      <th>131932</th>\n",
       "      <td>1.0</td>\n",
       "      <td>37</td>\n",
       "      <td>14273</td>\n",
       "      <td>0.002124</td>\n",
       "      <td>40.079678</td>\n",
       "    </tr>\n",
       "    <tr>\n",
       "      <th>146867</th>\n",
       "      <td>1.0</td>\n",
       "      <td>41</td>\n",
       "      <td>11351</td>\n",
       "      <td>0.001252</td>\n",
       "      <td>126631.554688</td>\n",
       "    </tr>\n",
       "    <tr>\n",
       "      <th>121958</th>\n",
       "      <td>1.0</td>\n",
       "      <td>34</td>\n",
       "      <td>27095</td>\n",
       "      <td>0.001097</td>\n",
       "      <td>12086.134766</td>\n",
       "    </tr>\n",
       "  </tbody>\n",
       "</table>\n",
       "<p>300252 rows × 5 columns</p>\n",
       "</div>"
      ],
      "text/plain": [
       "        const  stock_id  time_id  past_vol  past_trade_tot\n",
       "148183    1.0        41    22126  0.001072    25413.822266\n",
       "104510    1.0        30     9215  0.005446     2966.402832\n",
       "390565    1.0       114    32186  0.024367    25286.845703\n",
       "123863    1.0        35    11007  0.002135    46201.609375\n",
       "276632    1.0        82     7316  0.005720    17465.380859\n",
       "...       ...       ...      ...       ...             ...\n",
       "259178    1.0        76    21439  0.003456     7832.736816\n",
       "365838    1.0       108    16733  0.001024    17715.046875\n",
       "131932    1.0        37    14273  0.002124       40.079678\n",
       "146867    1.0        41    11351  0.001252   126631.554688\n",
       "121958    1.0        34    27095  0.001097    12086.134766\n",
       "\n",
       "[300252 rows x 5 columns]"
      ]
     },
     "execution_count": 46,
     "metadata": {},
     "output_type": "execute_result"
    }
   ],
   "source": [
    "X_train_lm"
   ]
  },
  {
   "cell_type": "code",
   "execution_count": 47,
   "id": "8e024f09",
   "metadata": {
    "execution": {
     "iopub.execute_input": "2021-08-13T04:53:43.830113Z",
     "iopub.status.busy": "2021-08-13T04:53:43.829230Z",
     "iopub.status.idle": "2021-08-13T04:53:43.835661Z",
     "shell.execute_reply": "2021-08-13T04:53:43.836197Z",
     "shell.execute_reply.started": "2021-08-07T18:38:56.375889Z"
    },
    "papermill": {
     "duration": 0.061303,
     "end_time": "2021-08-13T04:53:43.836348",
     "exception": false,
     "start_time": "2021-08-13T04:53:43.775045",
     "status": "completed"
    },
    "tags": []
   },
   "outputs": [
    {
     "data": {
      "text/plain": [
       "148183    0.001607\n",
       "104510    0.004799\n",
       "390565    0.018335\n",
       "123863    0.002378\n",
       "276632    0.004970\n",
       "            ...   \n",
       "259178    0.003325\n",
       "365838    0.001563\n",
       "131932    0.002398\n",
       "146867    0.001681\n",
       "121958    0.001628\n",
       "Length: 300252, dtype: float64"
      ]
     },
     "execution_count": 47,
     "metadata": {},
     "output_type": "execute_result"
    }
   ],
   "source": [
    "y_train_pred"
   ]
  },
  {
   "cell_type": "code",
   "execution_count": 48,
   "id": "a8e00efd",
   "metadata": {
    "execution": {
     "iopub.execute_input": "2021-08-13T04:53:43.946206Z",
     "iopub.status.busy": "2021-08-13T04:53:43.945569Z",
     "iopub.status.idle": "2021-08-13T04:53:45.485203Z",
     "shell.execute_reply": "2021-08-13T04:53:45.484594Z",
     "shell.execute_reply.started": "2021-08-07T18:38:57.522163Z"
    },
    "papermill": {
     "duration": 1.596599,
     "end_time": "2021-08-13T04:53:45.485338",
     "exception": false,
     "start_time": "2021-08-13T04:53:43.888739",
     "status": "completed"
    },
    "tags": []
   },
   "outputs": [
    {
     "data": {
      "text/plain": [
       "Text(0.5, 0, 'Errors')"
      ]
     },
     "execution_count": 48,
     "metadata": {},
     "output_type": "execute_result"
    },
    {
     "data": {
      "image/png": "[encoded data removed]",
      "text/plain": [
       "<Figure size 432x288 with 1 Axes>"
      ]
     },
     "metadata": {
      "needs_background": "light"
     },
     "output_type": "display_data"
    }
   ],
   "source": [
    "import matplotlib.pyplot as plt\n",
    "import seaborn as sns\n",
    "fig = plt.figure()\n",
    "sns.distplot((y_train - y_train_pred), bins = 20)\n",
    "fig.suptitle('Error Terms', fontsize = 20)                  # Plot heading \n",
    "plt.xlabel('Errors', fontsize = 18)"
   ]
  },
  {
   "cell_type": "code",
   "execution_count": 49,
   "id": "381f1233",
   "metadata": {
    "execution": {
     "iopub.execute_input": "2021-08-13T04:53:45.644321Z",
     "iopub.status.busy": "2021-08-13T04:53:45.643667Z",
     "iopub.status.idle": "2021-08-13T04:53:45.646031Z",
     "shell.execute_reply": "2021-08-13T04:53:45.646458Z",
     "shell.execute_reply.started": "2021-08-07T18:38:59.592541Z"
    },
    "papermill": {
     "duration": 0.061039,
     "end_time": "2021-08-13T04:53:45.646630",
     "exception": false,
     "start_time": "2021-08-13T04:53:45.585591",
     "status": "completed"
    },
    "tags": []
   },
   "outputs": [],
   "source": [
    "#num_vars = ['stock_id', 'time_id', 'target', 'past_vol']\n",
    "#df_test[num_vars] = scaler.fit_transform(df_test[num_vars])"
   ]
  },
  {
   "cell_type": "code",
   "execution_count": 50,
   "id": "fbe51f57",
   "metadata": {
    "execution": {
     "iopub.execute_input": "2021-08-13T04:53:45.760500Z",
     "iopub.status.busy": "2021-08-13T04:53:45.759614Z",
     "iopub.status.idle": "2021-08-13T04:53:45.762444Z",
     "shell.execute_reply": "2021-08-13T04:53:45.761941Z",
     "shell.execute_reply.started": "2021-08-07T18:39:00.070081Z"
    },
    "papermill": {
     "duration": 0.061323,
     "end_time": "2021-08-13T04:53:45.762571",
     "exception": false,
     "start_time": "2021-08-13T04:53:45.701248",
     "status": "completed"
    },
    "tags": []
   },
   "outputs": [],
   "source": [
    "y_test = df_test.pop('target')\n",
    "X_test = df_test"
   ]
  },
  {
   "cell_type": "code",
   "execution_count": 51,
   "id": "196c3e2b",
   "metadata": {
    "execution": {
     "iopub.execute_input": "2021-08-13T04:53:45.871200Z",
     "iopub.status.busy": "2021-08-13T04:53:45.870647Z",
     "iopub.status.idle": "2021-08-13T04:53:45.880247Z",
     "shell.execute_reply": "2021-08-13T04:53:45.879772Z",
     "shell.execute_reply.started": "2021-08-07T18:39:01.17742Z"
    },
    "papermill": {
     "duration": 0.064782,
     "end_time": "2021-08-13T04:53:45.880372",
     "exception": false,
     "start_time": "2021-08-13T04:53:45.815590",
     "status": "completed"
    },
    "tags": []
   },
   "outputs": [
    {
     "data": {
      "text/html": [
       "<div>\n",
       "<style scoped>\n",
       "    .dataframe tbody tr th:only-of-type {\n",
       "        vertical-align: middle;\n",
       "    }\n",
       "\n",
       "    .dataframe tbody tr th {\n",
       "        vertical-align: top;\n",
       "    }\n",
       "\n",
       "    .dataframe thead th {\n",
       "        text-align: right;\n",
       "    }\n",
       "</style>\n",
       "<table border=\"1\" class=\"dataframe\">\n",
       "  <thead>\n",
       "    <tr style=\"text-align: right;\">\n",
       "      <th></th>\n",
       "      <th>stock_id</th>\n",
       "      <th>time_id</th>\n",
       "      <th>past_vol</th>\n",
       "      <th>past_trade_tot</th>\n",
       "    </tr>\n",
       "  </thead>\n",
       "  <tbody>\n",
       "    <tr>\n",
       "      <th>58607</th>\n",
       "      <td>16</td>\n",
       "      <td>9787</td>\n",
       "      <td>0.007143</td>\n",
       "      <td>4902.535156</td>\n",
       "    </tr>\n",
       "    <tr>\n",
       "      <th>356864</th>\n",
       "      <td>105</td>\n",
       "      <td>5773</td>\n",
       "      <td>0.002404</td>\n",
       "      <td>16494.558594</td>\n",
       "    </tr>\n",
       "    <tr>\n",
       "      <th>197966</th>\n",
       "      <td>58</td>\n",
       "      <td>22076</td>\n",
       "      <td>0.002623</td>\n",
       "      <td>3632.061279</td>\n",
       "    </tr>\n",
       "    <tr>\n",
       "      <th>261134</th>\n",
       "      <td>77</td>\n",
       "      <td>5817</td>\n",
       "      <td>0.006993</td>\n",
       "      <td>131253.187500</td>\n",
       "    </tr>\n",
       "    <tr>\n",
       "      <th>193238</th>\n",
       "      <td>56</td>\n",
       "      <td>14572</td>\n",
       "      <td>0.002564</td>\n",
       "      <td>15650.796875</td>\n",
       "    </tr>\n",
       "  </tbody>\n",
       "</table>\n",
       "</div>"
      ],
      "text/plain": [
       "        stock_id  time_id  past_vol  past_trade_tot\n",
       "58607         16     9787  0.007143     4902.535156\n",
       "356864       105     5773  0.002404    16494.558594\n",
       "197966        58    22076  0.002623     3632.061279\n",
       "261134        77     5817  0.006993   131253.187500\n",
       "193238        56    14572  0.002564    15650.796875"
      ]
     },
     "execution_count": 51,
     "metadata": {},
     "output_type": "execute_result"
    }
   ],
   "source": [
    "X_test.head()"
   ]
  },
  {
   "cell_type": "code",
   "execution_count": 52,
   "id": "c4a763da",
   "metadata": {
    "execution": {
     "iopub.execute_input": "2021-08-13T04:53:45.994893Z",
     "iopub.status.busy": "2021-08-13T04:53:45.994339Z",
     "iopub.status.idle": "2021-08-13T04:53:46.000403Z",
     "shell.execute_reply": "2021-08-13T04:53:46.000951Z",
     "shell.execute_reply.started": "2021-08-07T18:39:02.143916Z"
    },
    "papermill": {
     "duration": 0.065333,
     "end_time": "2021-08-13T04:53:46.001108",
     "exception": false,
     "start_time": "2021-08-13T04:53:45.935775",
     "status": "completed"
    },
    "tags": []
   },
   "outputs": [
    {
     "data": {
      "text/plain": [
       "stock_id          0\n",
       "time_id           0\n",
       "past_vol          0\n",
       "past_trade_tot    0\n",
       "dtype: int64"
      ]
     },
     "execution_count": 52,
     "metadata": {},
     "output_type": "execute_result"
    }
   ],
   "source": [
    "X_test.isnull().sum()"
   ]
  },
  {
   "cell_type": "code",
   "execution_count": 53,
   "id": "4351b8f4",
   "metadata": {
    "execution": {
     "iopub.execute_input": "2021-08-13T04:53:46.113700Z",
     "iopub.status.busy": "2021-08-13T04:53:46.113054Z",
     "iopub.status.idle": "2021-08-13T04:53:46.121372Z",
     "shell.execute_reply": "2021-08-13T04:53:46.120769Z",
     "shell.execute_reply.started": "2021-08-07T18:39:03.026245Z"
    },
    "papermill": {
     "duration": 0.06642,
     "end_time": "2021-08-13T04:53:46.121509",
     "exception": false,
     "start_time": "2021-08-13T04:53:46.055089",
     "status": "completed"
    },
    "tags": []
   },
   "outputs": [],
   "source": [
    "# Now let's use our model to make predictions.\n",
    "\n",
    "# Creating X_test_new dataframe by dropping variables from X_test\n",
    "#X_test_new = X_test[X_train.columns]\n",
    "\n",
    "# Adding a constant variable \n",
    "X_test_new = sm.add_constant(X_test)"
   ]
  },
  {
   "cell_type": "code",
   "execution_count": 54,
   "id": "0b7fcd47",
   "metadata": {
    "execution": {
     "iopub.execute_input": "2021-08-13T04:53:46.240885Z",
     "iopub.status.busy": "2021-08-13T04:53:46.240262Z",
     "iopub.status.idle": "2021-08-13T04:53:46.242665Z",
     "shell.execute_reply": "2021-08-13T04:53:46.243107Z",
     "shell.execute_reply.started": "2021-08-07T18:39:04.213895Z"
    },
    "papermill": {
     "duration": 0.067137,
     "end_time": "2021-08-13T04:53:46.243276",
     "exception": false,
     "start_time": "2021-08-13T04:53:46.176139",
     "status": "completed"
    },
    "tags": []
   },
   "outputs": [
    {
     "data": {
      "text/html": [
       "<div>\n",
       "<style scoped>\n",
       "    .dataframe tbody tr th:only-of-type {\n",
       "        vertical-align: middle;\n",
       "    }\n",
       "\n",
       "    .dataframe tbody tr th {\n",
       "        vertical-align: top;\n",
       "    }\n",
       "\n",
       "    .dataframe thead th {\n",
       "        text-align: right;\n",
       "    }\n",
       "</style>\n",
       "<table border=\"1\" class=\"dataframe\">\n",
       "  <thead>\n",
       "    <tr style=\"text-align: right;\">\n",
       "      <th></th>\n",
       "      <th>const</th>\n",
       "      <th>stock_id</th>\n",
       "      <th>time_id</th>\n",
       "      <th>past_vol</th>\n",
       "      <th>past_trade_tot</th>\n",
       "    </tr>\n",
       "  </thead>\n",
       "  <tbody>\n",
       "    <tr>\n",
       "      <th>58607</th>\n",
       "      <td>1.0</td>\n",
       "      <td>16</td>\n",
       "      <td>9787</td>\n",
       "      <td>0.007143</td>\n",
       "      <td>4902.535156</td>\n",
       "    </tr>\n",
       "    <tr>\n",
       "      <th>356864</th>\n",
       "      <td>1.0</td>\n",
       "      <td>105</td>\n",
       "      <td>5773</td>\n",
       "      <td>0.002404</td>\n",
       "      <td>16494.558594</td>\n",
       "    </tr>\n",
       "    <tr>\n",
       "      <th>197966</th>\n",
       "      <td>1.0</td>\n",
       "      <td>58</td>\n",
       "      <td>22076</td>\n",
       "      <td>0.002623</td>\n",
       "      <td>3632.061279</td>\n",
       "    </tr>\n",
       "    <tr>\n",
       "      <th>261134</th>\n",
       "      <td>1.0</td>\n",
       "      <td>77</td>\n",
       "      <td>5817</td>\n",
       "      <td>0.006993</td>\n",
       "      <td>131253.187500</td>\n",
       "    </tr>\n",
       "    <tr>\n",
       "      <th>193238</th>\n",
       "      <td>1.0</td>\n",
       "      <td>56</td>\n",
       "      <td>14572</td>\n",
       "      <td>0.002564</td>\n",
       "      <td>15650.796875</td>\n",
       "    </tr>\n",
       "  </tbody>\n",
       "</table>\n",
       "</div>"
      ],
      "text/plain": [
       "        const  stock_id  time_id  past_vol  past_trade_tot\n",
       "58607     1.0        16     9787  0.007143     4902.535156\n",
       "356864    1.0       105     5773  0.002404    16494.558594\n",
       "197966    1.0        58    22076  0.002623     3632.061279\n",
       "261134    1.0        77     5817  0.006993   131253.187500\n",
       "193238    1.0        56    14572  0.002564    15650.796875"
      ]
     },
     "execution_count": 54,
     "metadata": {},
     "output_type": "execute_result"
    }
   ],
   "source": [
    "X_test_new.head()"
   ]
  },
  {
   "cell_type": "code",
   "execution_count": 55,
   "id": "a32d379c",
   "metadata": {
    "execution": {
     "iopub.execute_input": "2021-08-13T04:53:46.356031Z",
     "iopub.status.busy": "2021-08-13T04:53:46.355434Z",
     "iopub.status.idle": "2021-08-13T04:53:46.363479Z",
     "shell.execute_reply": "2021-08-13T04:53:46.363946Z",
     "shell.execute_reply.started": "2021-08-07T18:39:05.215499Z"
    },
    "papermill": {
     "duration": 0.065578,
     "end_time": "2021-08-13T04:53:46.364112",
     "exception": false,
     "start_time": "2021-08-13T04:53:46.298534",
     "status": "completed"
    },
    "tags": []
   },
   "outputs": [
    {
     "data": {
      "text/plain": [
       "const             0\n",
       "stock_id          0\n",
       "time_id           0\n",
       "past_vol          0\n",
       "past_trade_tot    0\n",
       "dtype: int64"
      ]
     },
     "execution_count": 55,
     "metadata": {},
     "output_type": "execute_result"
    }
   ],
   "source": [
    "X_test_new.isnull().sum()"
   ]
  },
  {
   "cell_type": "code",
   "execution_count": 56,
   "id": "5fc3923e",
   "metadata": {
    "execution": {
     "iopub.execute_input": "2021-08-13T04:53:46.476478Z",
     "iopub.status.busy": "2021-08-13T04:53:46.475851Z",
     "iopub.status.idle": "2021-08-13T04:53:46.481110Z",
     "shell.execute_reply": "2021-08-13T04:53:46.481543Z",
     "shell.execute_reply.started": "2021-08-07T18:39:06.394352Z"
    },
    "papermill": {
     "duration": 0.063023,
     "end_time": "2021-08-13T04:53:46.481711",
     "exception": false,
     "start_time": "2021-08-13T04:53:46.418688",
     "status": "completed"
    },
    "tags": []
   },
   "outputs": [
    {
     "data": {
      "text/plain": [
       "0"
      ]
     },
     "execution_count": 56,
     "metadata": {},
     "output_type": "execute_result"
    }
   ],
   "source": [
    "y_test.isnull().sum()"
   ]
  },
  {
   "cell_type": "code",
   "execution_count": 57,
   "id": "9d3b41f8",
   "metadata": {
    "execution": {
     "iopub.execute_input": "2021-08-13T04:53:46.595328Z",
     "iopub.status.busy": "2021-08-13T04:53:46.594702Z",
     "iopub.status.idle": "2021-08-13T04:53:46.613079Z",
     "shell.execute_reply": "2021-08-13T04:53:46.613768Z",
     "shell.execute_reply.started": "2021-08-07T18:39:08.306114Z"
    },
    "papermill": {
     "duration": 0.077586,
     "end_time": "2021-08-13T04:53:46.614040",
     "exception": false,
     "start_time": "2021-08-13T04:53:46.536454",
     "status": "completed"
    },
    "tags": []
   },
   "outputs": [],
   "source": [
    "y_test_pred = lm1.predict(X_test_new)"
   ]
  },
  {
   "cell_type": "code",
   "execution_count": 58,
   "id": "979cde55",
   "metadata": {
    "execution": {
     "iopub.execute_input": "2021-08-13T04:53:46.777606Z",
     "iopub.status.busy": "2021-08-13T04:53:46.776836Z",
     "iopub.status.idle": "2021-08-13T04:53:46.780471Z",
     "shell.execute_reply": "2021-08-13T04:53:46.779985Z",
     "shell.execute_reply.started": "2021-08-07T18:39:09.471338Z"
    },
    "papermill": {
     "duration": 0.064163,
     "end_time": "2021-08-13T04:53:46.780594",
     "exception": false,
     "start_time": "2021-08-13T04:53:46.716431",
     "status": "completed"
    },
    "tags": []
   },
   "outputs": [
    {
     "data": {
      "text/plain": [
       "0"
      ]
     },
     "execution_count": 58,
     "metadata": {},
     "output_type": "execute_result"
    }
   ],
   "source": [
    "y_test_pred.isnull().sum()"
   ]
  },
  {
   "cell_type": "code",
   "execution_count": 59,
   "id": "80ed270b",
   "metadata": {
    "execution": {
     "iopub.execute_input": "2021-08-13T04:53:46.908870Z",
     "iopub.status.busy": "2021-08-13T04:53:46.908203Z",
     "iopub.status.idle": "2021-08-13T04:53:47.500820Z",
     "shell.execute_reply": "2021-08-13T04:53:47.500245Z",
     "shell.execute_reply.started": "2021-08-07T18:39:10.297361Z"
    },
    "papermill": {
     "duration": 0.666359,
     "end_time": "2021-08-13T04:53:47.500958",
     "exception": false,
     "start_time": "2021-08-13T04:53:46.834599",
     "status": "completed"
    },
    "tags": []
   },
   "outputs": [
    {
     "data": {
      "text/plain": [
       "Text(0, 0.5, 'y_test_pred')"
      ]
     },
     "execution_count": 59,
     "metadata": {},
     "output_type": "execute_result"
    },
    {
     "data": {
      "image/png": "[encoded data removed]",
      "text/plain": [
       "<Figure size 432x288 with 1 Axes>"
      ]
     },
     "metadata": {
      "needs_background": "light"
     },
     "output_type": "display_data"
    }
   ],
   "source": [
    "# Plotting y_test and y_pred to understand the spread.\n",
    "import matplotlib.pyplot as plt\n",
    "fig = plt.figure()\n",
    "plt.scatter(y_test,y_test_pred)\n",
    "fig.suptitle('y_test vs y_test_pred', fontsize=20)              # Plot heading \n",
    "plt.xlabel('y_test', fontsize=18)                          # X-label\n",
    "plt.ylabel('y_test_pred', fontsize=16)   "
   ]
  },
  {
   "cell_type": "code",
   "execution_count": 60,
   "id": "f0aa64cc",
   "metadata": {
    "execution": {
     "iopub.execute_input": "2021-08-13T04:53:47.620223Z",
     "iopub.status.busy": "2021-08-13T04:53:47.619600Z",
     "iopub.status.idle": "2021-08-13T04:53:47.624137Z",
     "shell.execute_reply": "2021-08-13T04:53:47.624553Z",
     "shell.execute_reply.started": "2021-08-07T18:39:11.367898Z"
    },
    "papermill": {
     "duration": 0.067292,
     "end_time": "2021-08-13T04:53:47.624713",
     "exception": false,
     "start_time": "2021-08-13T04:53:47.557421",
     "status": "completed"
    },
    "tags": []
   },
   "outputs": [
    {
     "data": {
      "text/plain": [
       "0.7596589982138854"
      ]
     },
     "execution_count": 60,
     "metadata": {},
     "output_type": "execute_result"
    }
   ],
   "source": [
    "r2_score(y_true=y_test, y_pred=y_test_pred)"
   ]
  },
  {
   "cell_type": "code",
   "execution_count": 61,
   "id": "0fb7f9a3",
   "metadata": {
    "execution": {
     "iopub.execute_input": "2021-08-13T04:53:47.740394Z",
     "iopub.status.busy": "2021-08-13T04:53:47.739852Z",
     "iopub.status.idle": "2021-08-13T04:53:47.760990Z",
     "shell.execute_reply": "2021-08-13T04:53:47.760007Z",
     "shell.execute_reply.started": "2021-08-07T18:39:12.289211Z"
    },
    "papermill": {
     "duration": 0.079762,
     "end_time": "2021-08-13T04:53:47.761178",
     "exception": false,
     "start_time": "2021-08-13T04:53:47.681416",
     "status": "completed"
    },
    "tags": []
   },
   "outputs": [
    {
     "name": "stdout",
     "output_type": "stream",
     "text": [
      "   time_id  seconds_in_bucket  bid_price1  ask_price1  bid_price2  ask_price2  \\\n",
      "0        4                  0    1.000049    1.000590    0.999656    1.000639   \n",
      "1        4                  1    1.000049    1.000590    0.999656    1.000639   \n",
      "2        4                  5    1.000049    1.000639    0.999656    1.000885   \n",
      "\n",
      "   bid_size1  ask_size1  bid_size2  ask_size2 stock_id  \n",
      "0         91        100        100         24        0  \n",
      "1         91        100        100         20        0  \n",
      "2        290         20        101         15        0  \n"
     ]
    }
   ],
   "source": [
    "book_test = pd.read_parquet('../input/optiver-realized-volatility-prediction/book_test.parquet')\n",
    "print(book_test)"
   ]
  },
  {
   "cell_type": "code",
   "execution_count": 62,
   "id": "75223c4a",
   "metadata": {
    "execution": {
     "iopub.execute_input": "2021-08-13T04:53:47.881832Z",
     "iopub.status.busy": "2021-08-13T04:53:47.881212Z",
     "iopub.status.idle": "2021-08-13T04:53:47.899163Z",
     "shell.execute_reply": "2021-08-13T04:53:47.899611Z",
     "shell.execute_reply.started": "2021-08-07T18:39:13.470941Z"
    },
    "papermill": {
     "duration": 0.079819,
     "end_time": "2021-08-13T04:53:47.899766",
     "exception": false,
     "start_time": "2021-08-13T04:53:47.819947",
     "status": "completed"
    },
    "tags": []
   },
   "outputs": [
    {
     "data": {
      "text/html": [
       "<div>\n",
       "<style scoped>\n",
       "    .dataframe tbody tr th:only-of-type {\n",
       "        vertical-align: middle;\n",
       "    }\n",
       "\n",
       "    .dataframe tbody tr th {\n",
       "        vertical-align: top;\n",
       "    }\n",
       "\n",
       "    .dataframe thead th {\n",
       "        text-align: right;\n",
       "    }\n",
       "</style>\n",
       "<table border=\"1\" class=\"dataframe\">\n",
       "  <thead>\n",
       "    <tr style=\"text-align: right;\">\n",
       "      <th></th>\n",
       "      <th>time_id</th>\n",
       "      <th>seconds_in_bucket</th>\n",
       "      <th>price</th>\n",
       "      <th>size</th>\n",
       "      <th>order_count</th>\n",
       "      <th>stock_id</th>\n",
       "    </tr>\n",
       "  </thead>\n",
       "  <tbody>\n",
       "    <tr>\n",
       "      <th>0</th>\n",
       "      <td>4</td>\n",
       "      <td>7</td>\n",
       "      <td>1.000344</td>\n",
       "      <td>1</td>\n",
       "      <td>1</td>\n",
       "      <td>0</td>\n",
       "    </tr>\n",
       "    <tr>\n",
       "      <th>1</th>\n",
       "      <td>4</td>\n",
       "      <td>24</td>\n",
       "      <td>1.000049</td>\n",
       "      <td>100</td>\n",
       "      <td>7</td>\n",
       "      <td>0</td>\n",
       "    </tr>\n",
       "    <tr>\n",
       "      <th>2</th>\n",
       "      <td>4</td>\n",
       "      <td>27</td>\n",
       "      <td>1.000059</td>\n",
       "      <td>100</td>\n",
       "      <td>3</td>\n",
       "      <td>0</td>\n",
       "    </tr>\n",
       "  </tbody>\n",
       "</table>\n",
       "</div>"
      ],
      "text/plain": [
       "   time_id  seconds_in_bucket     price  size  order_count stock_id\n",
       "0        4                  7  1.000344     1            1        0\n",
       "1        4                 24  1.000049   100            7        0\n",
       "2        4                 27  1.000059   100            3        0"
      ]
     },
     "execution_count": 62,
     "metadata": {},
     "output_type": "execute_result"
    }
   ],
   "source": [
    "trade_test = pd.read_parquet('../input/optiver-realized-volatility-prediction/trade_test.parquet')\n",
    "trade_test"
   ]
  },
  {
   "cell_type": "code",
   "execution_count": 63,
   "id": "19b76b03",
   "metadata": {
    "execution": {
     "iopub.execute_input": "2021-08-13T04:53:48.017271Z",
     "iopub.status.busy": "2021-08-13T04:53:48.016716Z",
     "iopub.status.idle": "2021-08-13T04:53:48.023430Z",
     "shell.execute_reply": "2021-08-13T04:53:48.024273Z",
     "shell.execute_reply.started": "2021-08-07T18:39:18.96844Z"
    },
    "papermill": {
     "duration": 0.066978,
     "end_time": "2021-08-13T04:53:48.024520",
     "exception": false,
     "start_time": "2021-08-13T04:53:47.957542",
     "status": "completed"
    },
    "tags": []
   },
   "outputs": [
    {
     "name": "stdout",
     "output_type": "stream",
     "text": [
      "  row_id  test_past_vol\n",
      "0    0-4       0.000294\n"
     ]
    }
   ],
   "source": [
    "print(df_past_realized_test)"
   ]
  },
  {
   "cell_type": "code",
   "execution_count": 64,
   "id": "ea35e6a1",
   "metadata": {
    "execution": {
     "iopub.execute_input": "2021-08-13T04:53:48.143945Z",
     "iopub.status.busy": "2021-08-13T04:53:48.143388Z",
     "iopub.status.idle": "2021-08-13T04:53:48.159399Z",
     "shell.execute_reply": "2021-08-13T04:53:48.159900Z",
     "shell.execute_reply.started": "2021-08-07T18:39:20.886514Z"
    },
    "papermill": {
     "duration": 0.075939,
     "end_time": "2021-08-13T04:53:48.160056",
     "exception": false,
     "start_time": "2021-08-13T04:53:48.084117",
     "status": "completed"
    },
    "tags": []
   },
   "outputs": [
    {
     "data": {
      "text/html": [
       "<div>\n",
       "<style scoped>\n",
       "    .dataframe tbody tr th:only-of-type {\n",
       "        vertical-align: middle;\n",
       "    }\n",
       "\n",
       "    .dataframe tbody tr th {\n",
       "        vertical-align: top;\n",
       "    }\n",
       "\n",
       "    .dataframe thead th {\n",
       "        text-align: right;\n",
       "    }\n",
       "</style>\n",
       "<table border=\"1\" class=\"dataframe\">\n",
       "  <thead>\n",
       "    <tr style=\"text-align: right;\">\n",
       "      <th></th>\n",
       "      <th>stock_id</th>\n",
       "      <th>time_id</th>\n",
       "      <th>row_id</th>\n",
       "    </tr>\n",
       "  </thead>\n",
       "  <tbody>\n",
       "    <tr>\n",
       "      <th>0</th>\n",
       "      <td>0</td>\n",
       "      <td>4</td>\n",
       "      <td>0-4</td>\n",
       "    </tr>\n",
       "    <tr>\n",
       "      <th>1</th>\n",
       "      <td>0</td>\n",
       "      <td>32</td>\n",
       "      <td>0-32</td>\n",
       "    </tr>\n",
       "    <tr>\n",
       "      <th>2</th>\n",
       "      <td>0</td>\n",
       "      <td>34</td>\n",
       "      <td>0-34</td>\n",
       "    </tr>\n",
       "  </tbody>\n",
       "</table>\n",
       "</div>"
      ],
      "text/plain": [
       "   stock_id  time_id row_id\n",
       "0         0        4    0-4\n",
       "1         0       32   0-32\n",
       "2         0       34   0-34"
      ]
     },
     "execution_count": 64,
     "metadata": {},
     "output_type": "execute_result"
    }
   ],
   "source": [
    "test = pd.read_csv('../input/optiver-realized-volatility-prediction/test.csv')\n",
    "test"
   ]
  },
  {
   "cell_type": "code",
   "execution_count": 65,
   "id": "7ae6c2d6",
   "metadata": {
    "execution": {
     "iopub.execute_input": "2021-08-13T04:53:48.278930Z",
     "iopub.status.busy": "2021-08-13T04:53:48.278353Z",
     "iopub.status.idle": "2021-08-13T04:53:48.285670Z",
     "shell.execute_reply": "2021-08-13T04:53:48.286128Z",
     "shell.execute_reply.started": "2021-08-07T18:39:30.505378Z"
    },
    "papermill": {
     "duration": 0.067769,
     "end_time": "2021-08-13T04:53:48.286278",
     "exception": false,
     "start_time": "2021-08-13T04:53:48.218509",
     "status": "completed"
    },
    "tags": []
   },
   "outputs": [
    {
     "data": {
      "text/html": [
       "<div>\n",
       "<style scoped>\n",
       "    .dataframe tbody tr th:only-of-type {\n",
       "        vertical-align: middle;\n",
       "    }\n",
       "\n",
       "    .dataframe tbody tr th {\n",
       "        vertical-align: top;\n",
       "    }\n",
       "\n",
       "    .dataframe thead th {\n",
       "        text-align: right;\n",
       "    }\n",
       "</style>\n",
       "<table border=\"1\" class=\"dataframe\">\n",
       "  <thead>\n",
       "    <tr style=\"text-align: right;\">\n",
       "      <th></th>\n",
       "      <th>row_id</th>\n",
       "      <th>total_val</th>\n",
       "    </tr>\n",
       "  </thead>\n",
       "  <tbody>\n",
       "    <tr>\n",
       "      <th>0</th>\n",
       "      <td>0-4</td>\n",
       "      <td>201.011156</td>\n",
       "    </tr>\n",
       "  </tbody>\n",
       "</table>\n",
       "</div>"
      ],
      "text/plain": [
       "  row_id   total_val\n",
       "0    0-4  201.011156"
      ]
     },
     "execution_count": 65,
     "metadata": {},
     "output_type": "execute_result"
    }
   ],
   "source": [
    "df_past_realized_test_trade.head()"
   ]
  },
  {
   "cell_type": "code",
   "execution_count": 66,
   "id": "4f9bec25",
   "metadata": {
    "execution": {
     "iopub.execute_input": "2021-08-13T04:53:48.405023Z",
     "iopub.status.busy": "2021-08-13T04:53:48.404431Z",
     "iopub.status.idle": "2021-08-13T04:53:48.413384Z",
     "shell.execute_reply": "2021-08-13T04:53:48.413830Z",
     "shell.execute_reply.started": "2021-08-07T18:40:36.865789Z"
    },
    "papermill": {
     "duration": 0.069662,
     "end_time": "2021-08-13T04:53:48.413990",
     "exception": false,
     "start_time": "2021-08-13T04:53:48.344328",
     "status": "completed"
    },
    "tags": []
   },
   "outputs": [
    {
     "data": {
      "text/html": [
       "<div>\n",
       "<style scoped>\n",
       "    .dataframe tbody tr th:only-of-type {\n",
       "        vertical-align: middle;\n",
       "    }\n",
       "\n",
       "    .dataframe tbody tr th {\n",
       "        vertical-align: top;\n",
       "    }\n",
       "\n",
       "    .dataframe thead th {\n",
       "        text-align: right;\n",
       "    }\n",
       "</style>\n",
       "<table border=\"1\" class=\"dataframe\">\n",
       "  <thead>\n",
       "    <tr style=\"text-align: right;\">\n",
       "      <th></th>\n",
       "      <th>row_id</th>\n",
       "      <th>test_past_vol</th>\n",
       "    </tr>\n",
       "  </thead>\n",
       "  <tbody>\n",
       "    <tr>\n",
       "      <th>0</th>\n",
       "      <td>0-4</td>\n",
       "      <td>0.000294</td>\n",
       "    </tr>\n",
       "  </tbody>\n",
       "</table>\n",
       "</div>"
      ],
      "text/plain": [
       "  row_id  test_past_vol\n",
       "0    0-4       0.000294"
      ]
     },
     "execution_count": 66,
     "metadata": {},
     "output_type": "execute_result"
    }
   ],
   "source": [
    "df_past_realized_test.head()"
   ]
  },
  {
   "cell_type": "code",
   "execution_count": 67,
   "id": "b6164484",
   "metadata": {
    "execution": {
     "iopub.execute_input": "2021-08-13T04:53:48.533326Z",
     "iopub.status.busy": "2021-08-13T04:53:48.532734Z",
     "iopub.status.idle": "2021-08-13T04:53:48.540963Z",
     "shell.execute_reply": "2021-08-13T04:53:48.541362Z",
     "shell.execute_reply.started": "2021-08-07T18:40:50.099378Z"
    },
    "papermill": {
     "duration": 0.069128,
     "end_time": "2021-08-13T04:53:48.541514",
     "exception": false,
     "start_time": "2021-08-13T04:53:48.472386",
     "status": "completed"
    },
    "tags": []
   },
   "outputs": [
    {
     "data": {
      "text/html": [
       "<div>\n",
       "<style scoped>\n",
       "    .dataframe tbody tr th:only-of-type {\n",
       "        vertical-align: middle;\n",
       "    }\n",
       "\n",
       "    .dataframe tbody tr th {\n",
       "        vertical-align: top;\n",
       "    }\n",
       "\n",
       "    .dataframe thead th {\n",
       "        text-align: right;\n",
       "    }\n",
       "</style>\n",
       "<table border=\"1\" class=\"dataframe\">\n",
       "  <thead>\n",
       "    <tr style=\"text-align: right;\">\n",
       "      <th></th>\n",
       "      <th>stock_id</th>\n",
       "      <th>time_id</th>\n",
       "      <th>row_id</th>\n",
       "    </tr>\n",
       "  </thead>\n",
       "  <tbody>\n",
       "    <tr>\n",
       "      <th>0</th>\n",
       "      <td>0</td>\n",
       "      <td>4</td>\n",
       "      <td>0-4</td>\n",
       "    </tr>\n",
       "    <tr>\n",
       "      <th>1</th>\n",
       "      <td>0</td>\n",
       "      <td>32</td>\n",
       "      <td>0-32</td>\n",
       "    </tr>\n",
       "  </tbody>\n",
       "</table>\n",
       "</div>"
      ],
      "text/plain": [
       "   stock_id  time_id row_id\n",
       "0         0        4    0-4\n",
       "1         0       32   0-32"
      ]
     },
     "execution_count": 67,
     "metadata": {},
     "output_type": "execute_result"
    }
   ],
   "source": [
    "test.head(2)"
   ]
  },
  {
   "cell_type": "code",
   "execution_count": 68,
   "id": "240e4836",
   "metadata": {
    "execution": {
     "iopub.execute_input": "2021-08-13T04:53:48.668733Z",
     "iopub.status.busy": "2021-08-13T04:53:48.668072Z",
     "iopub.status.idle": "2021-08-13T04:53:48.671852Z",
     "shell.execute_reply": "2021-08-13T04:53:48.671065Z",
     "shell.execute_reply.started": "2021-08-07T18:48:01.065429Z"
    },
    "papermill": {
     "duration": 0.072503,
     "end_time": "2021-08-13T04:53:48.672026",
     "exception": false,
     "start_time": "2021-08-13T04:53:48.599523",
     "status": "completed"
    },
    "tags": []
   },
   "outputs": [
    {
     "name": "stdout",
     "output_type": "stream",
     "text": [
      "   stock_id  time_id row_id  past_vol\n",
      "0         0        4    0-4  0.000294\n",
      "1         0       32   0-32       NaN\n",
      "2         0       34   0-34       NaN\n"
     ]
    }
   ],
   "source": [
    "#test['row_id'] = test['stock_id'].astype(str) + '-' + test['time_id'].astype(str)\n",
    "df_test_joined = test.merge(df_past_realized_test[['row_id','test_past_vol']], on = ['row_id'], how = 'left')\n",
    "df_test_joined.columns = ['stock_id', 'time_id', 'row_id', 'past_vol']\n",
    "#df_test_joined.drop('row_id', axis=1, inplace=True)\n",
    "print(df_test_joined.head())"
   ]
  },
  {
   "cell_type": "code",
   "execution_count": 69,
   "id": "3e7b1f1c",
   "metadata": {
    "execution": {
     "iopub.execute_input": "2021-08-13T04:53:48.803935Z",
     "iopub.status.busy": "2021-08-13T04:53:48.800774Z",
     "iopub.status.idle": "2021-08-13T04:53:48.806773Z",
     "shell.execute_reply": "2021-08-13T04:53:48.806242Z",
     "shell.execute_reply.started": "2021-08-07T18:48:11.803349Z"
    },
    "papermill": {
     "duration": 0.072884,
     "end_time": "2021-08-13T04:53:48.806928",
     "exception": false,
     "start_time": "2021-08-13T04:53:48.734044",
     "status": "completed"
    },
    "tags": []
   },
   "outputs": [],
   "source": [
    "###train['row_id'] = train['stock_id'].astype(str) + '-' + train['time_id'].astype(str)\n",
    "#train = train[['row_id','target']]\n",
    "df_test_joined_new = df_test_joined.merge(df_past_realized_test_trade, on = ['row_id'], how = 'left')\n",
    "df_test_joined_new.columns = ['stock_id', 'time_id', 'row_id','past_vol','test_past_vol']\n",
    "df_test_joined_new.drop('row_id', axis=1, inplace=True)\n",
    "#print(train.head())"
   ]
  },
  {
   "cell_type": "code",
   "execution_count": 70,
   "id": "99b29543",
   "metadata": {
    "execution": {
     "iopub.execute_input": "2021-08-13T04:53:48.929743Z",
     "iopub.status.busy": "2021-08-13T04:53:48.929193Z",
     "iopub.status.idle": "2021-08-13T04:53:48.939257Z",
     "shell.execute_reply": "2021-08-13T04:53:48.938701Z",
     "shell.execute_reply.started": "2021-08-07T18:48:19.237287Z"
    },
    "papermill": {
     "duration": 0.072997,
     "end_time": "2021-08-13T04:53:48.939394",
     "exception": false,
     "start_time": "2021-08-13T04:53:48.866397",
     "status": "completed"
    },
    "tags": []
   },
   "outputs": [
    {
     "data": {
      "text/html": [
       "<div>\n",
       "<style scoped>\n",
       "    .dataframe tbody tr th:only-of-type {\n",
       "        vertical-align: middle;\n",
       "    }\n",
       "\n",
       "    .dataframe tbody tr th {\n",
       "        vertical-align: top;\n",
       "    }\n",
       "\n",
       "    .dataframe thead th {\n",
       "        text-align: right;\n",
       "    }\n",
       "</style>\n",
       "<table border=\"1\" class=\"dataframe\">\n",
       "  <thead>\n",
       "    <tr style=\"text-align: right;\">\n",
       "      <th></th>\n",
       "      <th>stock_id</th>\n",
       "      <th>time_id</th>\n",
       "      <th>past_vol</th>\n",
       "      <th>test_past_vol</th>\n",
       "    </tr>\n",
       "  </thead>\n",
       "  <tbody>\n",
       "    <tr>\n",
       "      <th>0</th>\n",
       "      <td>0</td>\n",
       "      <td>4</td>\n",
       "      <td>0.000294</td>\n",
       "      <td>201.011156</td>\n",
       "    </tr>\n",
       "    <tr>\n",
       "      <th>1</th>\n",
       "      <td>0</td>\n",
       "      <td>32</td>\n",
       "      <td>NaN</td>\n",
       "      <td>NaN</td>\n",
       "    </tr>\n",
       "    <tr>\n",
       "      <th>2</th>\n",
       "      <td>0</td>\n",
       "      <td>34</td>\n",
       "      <td>NaN</td>\n",
       "      <td>NaN</td>\n",
       "    </tr>\n",
       "  </tbody>\n",
       "</table>\n",
       "</div>"
      ],
      "text/plain": [
       "   stock_id  time_id  past_vol  test_past_vol\n",
       "0         0        4  0.000294     201.011156\n",
       "1         0       32       NaN            NaN\n",
       "2         0       34       NaN            NaN"
      ]
     },
     "execution_count": 70,
     "metadata": {},
     "output_type": "execute_result"
    }
   ],
   "source": [
    "#num_vars = ['stock_id', 'time_id', 'test_past_vol']\n",
    "#df_test_joined[num_vars] = scaler.fit_transform(df_test_joined[num_vars])\n",
    "df_test_joined_new"
   ]
  },
  {
   "cell_type": "code",
   "execution_count": 71,
   "id": "1246d6f5",
   "metadata": {
    "execution": {
     "iopub.execute_input": "2021-08-13T04:53:49.064064Z",
     "iopub.status.busy": "2021-08-13T04:53:49.063106Z",
     "iopub.status.idle": "2021-08-13T04:53:49.066660Z",
     "shell.execute_reply": "2021-08-13T04:53:49.067147Z",
     "shell.execute_reply.started": "2021-08-07T18:50:26.690846Z"
    },
    "papermill": {
     "duration": 0.067713,
     "end_time": "2021-08-13T04:53:49.067315",
     "exception": false,
     "start_time": "2021-08-13T04:53:48.999602",
     "status": "completed"
    },
    "tags": []
   },
   "outputs": [],
   "source": [
    "X_test_joined = df_test_joined_new"
   ]
  },
  {
   "cell_type": "code",
   "execution_count": 72,
   "id": "8ba611b7",
   "metadata": {
    "execution": {
     "iopub.execute_input": "2021-08-13T04:53:49.190720Z",
     "iopub.status.busy": "2021-08-13T04:53:49.189862Z",
     "iopub.status.idle": "2021-08-13T04:53:49.201234Z",
     "shell.execute_reply": "2021-08-13T04:53:49.200234Z",
     "shell.execute_reply.started": "2021-08-07T18:50:29.820783Z"
    },
    "papermill": {
     "duration": 0.073879,
     "end_time": "2021-08-13T04:53:49.201430",
     "exception": false,
     "start_time": "2021-08-13T04:53:49.127551",
     "status": "completed"
    },
    "tags": []
   },
   "outputs": [
    {
     "name": "stdout",
     "output_type": "stream",
     "text": [
      "   const  stock_id  time_id  past_vol  test_past_vol\n",
      "0    1.0         0        4  0.000294     201.011156\n",
      "1    1.0         0       32       NaN            NaN\n",
      "2    1.0         0       34       NaN            NaN\n"
     ]
    }
   ],
   "source": [
    "X_test_joined = sm.add_constant(df_test_joined_new)\n",
    "#print(df_test_joined.shape)\n",
    "print(X_test_joined)"
   ]
  },
  {
   "cell_type": "code",
   "execution_count": 73,
   "id": "cd6d30c3",
   "metadata": {
    "execution": {
     "iopub.execute_input": "2021-08-13T04:53:49.337569Z",
     "iopub.status.busy": "2021-08-13T04:53:49.336960Z",
     "iopub.status.idle": "2021-08-13T04:53:49.341126Z",
     "shell.execute_reply": "2021-08-13T04:53:49.340639Z",
     "shell.execute_reply.started": "2021-08-07T18:50:46.030787Z"
    },
    "papermill": {
     "duration": 0.078531,
     "end_time": "2021-08-13T04:53:49.341283",
     "exception": false,
     "start_time": "2021-08-13T04:53:49.262752",
     "status": "completed"
    },
    "tags": []
   },
   "outputs": [
    {
     "data": {
      "text/html": [
       "<div>\n",
       "<style scoped>\n",
       "    .dataframe tbody tr th:only-of-type {\n",
       "        vertical-align: middle;\n",
       "    }\n",
       "\n",
       "    .dataframe tbody tr th {\n",
       "        vertical-align: top;\n",
       "    }\n",
       "\n",
       "    .dataframe thead th {\n",
       "        text-align: right;\n",
       "    }\n",
       "</style>\n",
       "<table border=\"1\" class=\"dataframe\">\n",
       "  <thead>\n",
       "    <tr style=\"text-align: right;\">\n",
       "      <th></th>\n",
       "      <th>const</th>\n",
       "      <th>stock_id</th>\n",
       "      <th>time_id</th>\n",
       "      <th>past_vol</th>\n",
       "      <th>test_past_vol</th>\n",
       "    </tr>\n",
       "  </thead>\n",
       "  <tbody>\n",
       "    <tr>\n",
       "      <th>0</th>\n",
       "      <td>1.0</td>\n",
       "      <td>0</td>\n",
       "      <td>4</td>\n",
       "      <td>0.000294</td>\n",
       "      <td>201.011156</td>\n",
       "    </tr>\n",
       "  </tbody>\n",
       "</table>\n",
       "</div>"
      ],
      "text/plain": [
       "   const  stock_id  time_id  past_vol  test_past_vol\n",
       "0    1.0         0        4  0.000294     201.011156"
      ]
     },
     "execution_count": 73,
     "metadata": {},
     "output_type": "execute_result"
    }
   ],
   "source": [
    "X_test_joined.dropna(axis=0, inplace=True)\n",
    "X_test_joined"
   ]
  },
  {
   "cell_type": "code",
   "execution_count": 74,
   "id": "a41f83c0",
   "metadata": {
    "execution": {
     "iopub.execute_input": "2021-08-13T04:53:49.465788Z",
     "iopub.status.busy": "2021-08-13T04:53:49.465232Z",
     "iopub.status.idle": "2021-08-13T04:53:49.468457Z",
     "shell.execute_reply": "2021-08-13T04:53:49.467898Z",
     "shell.execute_reply.started": "2021-08-07T18:50:51.97139Z"
    },
    "papermill": {
     "duration": 0.067343,
     "end_time": "2021-08-13T04:53:49.468586",
     "exception": false,
     "start_time": "2021-08-13T04:53:49.401243",
     "status": "completed"
    },
    "tags": []
   },
   "outputs": [],
   "source": [
    "#X_test_joined = sm.add_constant(X_test_joined)\n",
    "y_test_joined_pred = lm1.predict(X_test_joined)"
   ]
  },
  {
   "cell_type": "code",
   "execution_count": 75,
   "id": "f630cc50",
   "metadata": {
    "execution": {
     "iopub.execute_input": "2021-08-13T04:53:49.591564Z",
     "iopub.status.busy": "2021-08-13T04:53:49.590976Z",
     "iopub.status.idle": "2021-08-13T04:53:49.594030Z",
     "shell.execute_reply": "2021-08-13T04:53:49.594420Z",
     "shell.execute_reply.started": "2021-08-07T18:50:58.753636Z"
    },
    "papermill": {
     "duration": 0.067127,
     "end_time": "2021-08-13T04:53:49.594577",
     "exception": false,
     "start_time": "2021-08-13T04:53:49.527450",
     "status": "completed"
    },
    "tags": []
   },
   "outputs": [
    {
     "data": {
      "text/plain": [
       "0    0.001118\n",
       "dtype: float64"
      ]
     },
     "execution_count": 75,
     "metadata": {},
     "output_type": "execute_result"
    }
   ],
   "source": [
    "y_test_joined_pred"
   ]
  },
  {
   "cell_type": "code",
   "execution_count": 76,
   "id": "e4483983",
   "metadata": {
    "execution": {
     "iopub.execute_input": "2021-08-13T04:53:49.732403Z",
     "iopub.status.busy": "2021-08-13T04:53:49.731514Z",
     "iopub.status.idle": "2021-08-13T04:53:49.735385Z",
     "shell.execute_reply": "2021-08-13T04:53:49.734955Z",
     "shell.execute_reply.started": "2021-08-07T18:53:59.401734Z"
    },
    "papermill": {
     "duration": 0.081611,
     "end_time": "2021-08-13T04:53:49.735516",
     "exception": false,
     "start_time": "2021-08-13T04:53:49.653905",
     "status": "completed"
    },
    "tags": []
   },
   "outputs": [
    {
     "data": {
      "text/html": [
       "<div>\n",
       "<style scoped>\n",
       "    .dataframe tbody tr th:only-of-type {\n",
       "        vertical-align: middle;\n",
       "    }\n",
       "\n",
       "    .dataframe tbody tr th {\n",
       "        vertical-align: top;\n",
       "    }\n",
       "\n",
       "    .dataframe thead th {\n",
       "        text-align: right;\n",
       "    }\n",
       "</style>\n",
       "<table border=\"1\" class=\"dataframe\">\n",
       "  <thead>\n",
       "    <tr style=\"text-align: right;\">\n",
       "      <th></th>\n",
       "      <th>row_id</th>\n",
       "      <th>target</th>\n",
       "    </tr>\n",
       "  </thead>\n",
       "  <tbody>\n",
       "    <tr>\n",
       "      <th>0</th>\n",
       "      <td>0-4</td>\n",
       "      <td>0.001118</td>\n",
       "    </tr>\n",
       "    <tr>\n",
       "      <th>1</th>\n",
       "      <td>0-32</td>\n",
       "      <td>0.000000</td>\n",
       "    </tr>\n",
       "    <tr>\n",
       "      <th>2</th>\n",
       "      <td>0-34</td>\n",
       "      <td>0.000000</td>\n",
       "    </tr>\n",
       "  </tbody>\n",
       "</table>\n",
       "</div>"
      ],
      "text/plain": [
       "  row_id    target\n",
       "0    0-4  0.001118\n",
       "1   0-32  0.000000\n",
       "2   0-34  0.000000"
      ]
     },
     "execution_count": 76,
     "metadata": {},
     "output_type": "execute_result"
    }
   ],
   "source": [
    "results = pd.concat([df_test_joined_new, y_test_joined_pred], axis=1)\n",
    "results['row_id'] = results['stock_id'].astype(str) + '-' + results['time_id'].astype(str)\n",
    "results.drop(['stock_id', 'time_id', 'past_vol', 'test_past_vol'], axis=1, inplace=True)\n",
    "results.columns = ['target', 'row_id']\n",
    "results = results[['row_id', 'target']]\n",
    "results_final = results.fillna(0)\n",
    "results_final"
   ]
  },
  {
   "cell_type": "code",
   "execution_count": 77,
   "id": "7ec8f142",
   "metadata": {
    "execution": {
     "iopub.execute_input": "2021-08-13T04:53:49.858787Z",
     "iopub.status.busy": "2021-08-13T04:53:49.858214Z",
     "iopub.status.idle": "2021-08-13T04:53:49.865533Z",
     "shell.execute_reply": "2021-08-13T04:53:49.865064Z",
     "shell.execute_reply.started": "2021-08-07T18:54:03.558978Z"
    },
    "papermill": {
     "duration": 0.070592,
     "end_time": "2021-08-13T04:53:49.865659",
     "exception": false,
     "start_time": "2021-08-13T04:53:49.795067",
     "status": "completed"
    },
    "tags": []
   },
   "outputs": [],
   "source": [
    "results_final.to_csv('submission.csv',index = False)"
   ]
  }
 ],
 "metadata": {
  "kernelspec": {
   "display_name": "Python 3",
   "language": "python",
   "name": "python3"
  },
  "language_info": {
   "codemirror_mode": {
    "name": "ipython",
    "version": 3
   },
   "file_extension": ".py",
   "mimetype": "text/x-python",
   "name": "python",
   "nbconvert_exporter": "python",
   "pygments_lexer": "ipython3",
   "version": "3.7.10"
  },
  "papermill": {
   "default_parameters": {},
   "duration": 385.929105,
   "end_time": "2021-08-13T04:53:52.307083",
   "environment_variables": {},
   "exception": null,
   "input_path": "__notebook__.ipynb",
   "output_path": "__notebook__.ipynb",
   "parameters": {},
   "start_time": "2021-08-13T04:47:26.377978",
   "version": "2.3.3"
  }
 },
 "nbformat": 4,
 "nbformat_minor": 5
}
