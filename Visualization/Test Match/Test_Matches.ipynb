{
 "cells": [
  {
   "cell_type": "markdown",
   "metadata": {
    "_cell_guid": "b1076dfc-b9ad-4769-8c92-a6c4dae69d19",
    "_uuid": "8f2839f25d086af736a60e9eeb907d3b93b6e0e5",
    "execution": {
     "iopub.execute_input": "2021-12-06T16:52:54.860680Z",
     "iopub.status.busy": "2021-12-06T16:52:54.859574Z",
     "iopub.status.idle": "2021-12-06T16:52:54.869002Z",
     "shell.execute_reply": "2021-12-06T16:52:54.869513Z",
     "shell.execute_reply.started": "2021-12-06T16:39:29.475962Z"
    },
    "papermill": {
     "duration": 0.020473,
     "end_time": "2021-12-06T16:52:54.869796",
     "exception": false,
     "start_time": "2021-12-06T16:52:54.849323",
     "status": "completed"
    },
    "tags": []
   },
   "source": [
    "## Test Match Dataset"
   ]
  },
  {
   "cell_type": "code",
   "execution_count": 1,
   "metadata": {
    "execution": {
     "iopub.execute_input": "2021-12-06T16:52:54.883410Z",
     "iopub.status.busy": "2021-12-06T16:52:54.882822Z",
     "iopub.status.idle": "2021-12-06T16:52:55.150553Z",
     "shell.execute_reply": "2021-12-06T16:52:55.150005Z",
     "shell.execute_reply.started": "2021-12-06T16:43:18.329175Z"
    },
    "papermill": {
     "duration": 0.275205,
     "end_time": "2021-12-06T16:52:55.150695",
     "exception": false,
     "start_time": "2021-12-06T16:52:54.875490",
     "status": "completed"
    },
    "tags": []
   },
   "outputs": [],
   "source": [
    "import re\n",
    "import json\n",
    "import requests\n",
    "from bs4 import BeautifulSoup\n",
    "import pandas as pd\n",
    "import numpy as np\n",
    "import bar_chart_race as bcr"
   ]
  },
  {
   "cell_type": "code",
   "execution_count": 2,
   "metadata": {
    "execution": {
     "iopub.execute_input": "2021-12-06T16:52:55.169853Z",
     "iopub.status.busy": "2021-12-06T16:52:55.168894Z",
     "iopub.status.idle": "2021-12-06T16:52:55.170846Z",
     "shell.execute_reply": "2021-12-06T16:52:55.171273Z",
     "shell.execute_reply.started": "2021-12-06T16:44:36.869117Z"
    },
    "papermill": {
     "duration": 0.015443,
     "end_time": "2021-12-06T16:52:55.171442",
     "exception": false,
     "start_time": "2021-12-06T16:52:55.155999",
     "status": "completed"
    },
    "tags": []
   },
   "outputs": [],
   "source": [
    "def extract_match_results(year):\n",
    "    #URL = 'https://stats.espncricinfo.com/ci/engine/records/team/match_results.html?class=2;id=2012;type=year'\n",
    "    URL = 'https://stats.espncricinfo.com/ci/engine/records/team/match_results.html?class=1;id=' + year + ';type=year'\n",
    "    page = requests.get(URL)\n",
    "    bs = BeautifulSoup(page.content, 'lxml')\n",
    "    table_body=bs.find_all('tbody')\n",
    "    li = []\n",
    "    rows = table_body[0].find_all('tr')\n",
    "    for row in rows:\n",
    "        cols = row.find_all('td')\n",
    "        li.append([cols[2].string, cols[5].string])\n",
    "    return li"
   ]
  },
  {
   "cell_type": "code",
   "execution_count": 3,
   "metadata": {
    "execution": {
     "iopub.execute_input": "2021-12-06T16:52:55.188761Z",
     "iopub.status.busy": "2021-12-06T16:52:55.187847Z",
     "iopub.status.idle": "2021-12-06T16:54:28.801915Z",
     "shell.execute_reply": "2021-12-06T16:54:28.801324Z",
     "shell.execute_reply.started": "2021-12-06T16:49:27.406790Z"
    },
    "papermill": {
     "duration": 93.625348,
     "end_time": "2021-12-06T16:54:28.802069",
     "exception": false,
     "start_time": "2021-12-06T16:52:55.176721",
     "status": "completed"
    },
    "tags": []
   },
   "outputs": [],
   "source": [
    "final_list = []\n",
    "for year in range(1877,2022):\n",
    "    try:\n",
    "        li = extract_match_results(str(year))\n",
    "        for elem in li:\n",
    "            final_list.append(elem)\n",
    "    except Exception as e:\n",
    "        pass"
   ]
  },
  {
   "cell_type": "code",
   "execution_count": 4,
   "metadata": {
    "execution": {
     "iopub.execute_input": "2021-12-06T16:54:28.822088Z",
     "iopub.status.busy": "2021-12-06T16:54:28.815315Z",
     "iopub.status.idle": "2021-12-06T16:54:28.823932Z",
     "shell.execute_reply": "2021-12-06T16:54:28.824323Z",
     "shell.execute_reply.started": "2021-12-06T16:52:02.777970Z"
    },
    "papermill": {
     "duration": 0.016788,
     "end_time": "2021-12-06T16:54:28.824491",
     "exception": false,
     "start_time": "2021-12-06T16:54:28.807703",
     "status": "completed"
    },
    "tags": []
   },
   "outputs": [],
   "source": [
    "df = pd.DataFrame(final_list, columns = ['Team', 'Date'])"
   ]
  },
  {
   "cell_type": "code",
   "execution_count": 5,
   "metadata": {
    "execution": {
     "iopub.execute_input": "2021-12-06T16:54:28.842447Z",
     "iopub.status.busy": "2021-12-06T16:54:28.841822Z",
     "iopub.status.idle": "2021-12-06T16:54:28.852666Z",
     "shell.execute_reply": "2021-12-06T16:54:28.853091Z",
     "shell.execute_reply.started": "2021-12-06T16:52:29.070146Z"
    },
    "papermill": {
     "duration": 0.023603,
     "end_time": "2021-12-06T16:54:28.853268",
     "exception": false,
     "start_time": "2021-12-06T16:54:28.829665",
     "status": "completed"
    },
    "tags": []
   },
   "outputs": [
    {
     "data": {
      "text/html": [
       "<div>\n",
       "<style scoped>\n",
       "    .dataframe tbody tr th:only-of-type {\n",
       "        vertical-align: middle;\n",
       "    }\n",
       "\n",
       "    .dataframe tbody tr th {\n",
       "        vertical-align: top;\n",
       "    }\n",
       "\n",
       "    .dataframe thead th {\n",
       "        text-align: right;\n",
       "    }\n",
       "</style>\n",
       "<table border=\"1\" class=\"dataframe\">\n",
       "  <thead>\n",
       "    <tr style=\"text-align: right;\">\n",
       "      <th></th>\n",
       "      <th>Team</th>\n",
       "      <th>Date</th>\n",
       "    </tr>\n",
       "  </thead>\n",
       "  <tbody>\n",
       "    <tr>\n",
       "      <th>0</th>\n",
       "      <td>Australia</td>\n",
       "      <td>Mar 15-19, 1877</td>\n",
       "    </tr>\n",
       "    <tr>\n",
       "      <th>1</th>\n",
       "      <td>England</td>\n",
       "      <td>Mar 31-Apr 4, 1877</td>\n",
       "    </tr>\n",
       "    <tr>\n",
       "      <th>2</th>\n",
       "      <td>Australia</td>\n",
       "      <td>Jan 2-4, 1879</td>\n",
       "    </tr>\n",
       "    <tr>\n",
       "      <th>3</th>\n",
       "      <td>England</td>\n",
       "      <td>Sep 6-8, 1880</td>\n",
       "    </tr>\n",
       "    <tr>\n",
       "      <th>4</th>\n",
       "      <td>drawn</td>\n",
       "      <td>Dec 31, 1881 - Jan 4, 1882</td>\n",
       "    </tr>\n",
       "  </tbody>\n",
       "</table>\n",
       "</div>"
      ],
      "text/plain": [
       "        Team                        Date\n",
       "0  Australia             Mar 15-19, 1877\n",
       "1    England          Mar 31-Apr 4, 1877\n",
       "2  Australia               Jan 2-4, 1879\n",
       "3    England               Sep 6-8, 1880\n",
       "4      drawn  Dec 31, 1881 - Jan 4, 1882"
      ]
     },
     "execution_count": 5,
     "metadata": {},
     "output_type": "execute_result"
    }
   ],
   "source": [
    "df.head()"
   ]
  },
  {
   "cell_type": "code",
   "execution_count": 6,
   "metadata": {
    "papermill": {
     "duration": 0.005301,
     "end_time": "2021-12-06T16:54:28.864440",
     "exception": false,
     "start_time": "2021-12-06T16:54:28.859139",
     "status": "completed"
    },
    "tags": []
   },
   "outputs": [
    {
     "data": {
      "text/plain": [
       "(2479, 2)"
      ]
     },
     "execution_count": 6,
     "metadata": {},
     "output_type": "execute_result"
    }
   ],
   "source": [
    "df.shape"
   ]
  },
  {
   "cell_type": "code",
   "execution_count": 7,
   "metadata": {},
   "outputs": [
    {
     "name": "stdout",
     "output_type": "stream",
     "text": [
      "<class 'pandas.core.frame.DataFrame'>\n",
      "RangeIndex: 2479 entries, 0 to 2478\n",
      "Data columns (total 2 columns):\n",
      " #   Column  Non-Null Count  Dtype \n",
      "---  ------  --------------  ----- \n",
      " 0   Team    2479 non-null   object\n",
      " 1   Date    2479 non-null   object\n",
      "dtypes: object(2)\n",
      "memory usage: 38.9+ KB\n"
     ]
    }
   ],
   "source": [
    "df.info()"
   ]
  },
  {
   "cell_type": "code",
   "execution_count": 8,
   "metadata": {},
   "outputs": [],
   "source": [
    "df['Year'] = df['Date'].str[-4:]"
   ]
  },
  {
   "cell_type": "code",
   "execution_count": 9,
   "metadata": {},
   "outputs": [
    {
     "data": {
      "text/html": [
       "<div>\n",
       "<style scoped>\n",
       "    .dataframe tbody tr th:only-of-type {\n",
       "        vertical-align: middle;\n",
       "    }\n",
       "\n",
       "    .dataframe tbody tr th {\n",
       "        vertical-align: top;\n",
       "    }\n",
       "\n",
       "    .dataframe thead th {\n",
       "        text-align: right;\n",
       "    }\n",
       "</style>\n",
       "<table border=\"1\" class=\"dataframe\">\n",
       "  <thead>\n",
       "    <tr style=\"text-align: right;\">\n",
       "      <th></th>\n",
       "      <th>Team</th>\n",
       "      <th>Date</th>\n",
       "      <th>Year</th>\n",
       "    </tr>\n",
       "  </thead>\n",
       "  <tbody>\n",
       "    <tr>\n",
       "      <th>0</th>\n",
       "      <td>Australia</td>\n",
       "      <td>Mar 15-19, 1877</td>\n",
       "      <td>1877</td>\n",
       "    </tr>\n",
       "    <tr>\n",
       "      <th>1</th>\n",
       "      <td>England</td>\n",
       "      <td>Mar 31-Apr 4, 1877</td>\n",
       "      <td>1877</td>\n",
       "    </tr>\n",
       "    <tr>\n",
       "      <th>2</th>\n",
       "      <td>Australia</td>\n",
       "      <td>Jan 2-4, 1879</td>\n",
       "      <td>1879</td>\n",
       "    </tr>\n",
       "    <tr>\n",
       "      <th>3</th>\n",
       "      <td>England</td>\n",
       "      <td>Sep 6-8, 1880</td>\n",
       "      <td>1880</td>\n",
       "    </tr>\n",
       "    <tr>\n",
       "      <th>4</th>\n",
       "      <td>drawn</td>\n",
       "      <td>Dec 31, 1881 - Jan 4, 1882</td>\n",
       "      <td>1882</td>\n",
       "    </tr>\n",
       "  </tbody>\n",
       "</table>\n",
       "</div>"
      ],
      "text/plain": [
       "        Team                        Date  Year\n",
       "0  Australia             Mar 15-19, 1877  1877\n",
       "1    England          Mar 31-Apr 4, 1877  1877\n",
       "2  Australia               Jan 2-4, 1879  1879\n",
       "3    England               Sep 6-8, 1880  1880\n",
       "4      drawn  Dec 31, 1881 - Jan 4, 1882  1882"
      ]
     },
     "execution_count": 9,
     "metadata": {},
     "output_type": "execute_result"
    }
   ],
   "source": [
    "df.head()"
   ]
  },
  {
   "cell_type": "code",
   "execution_count": 10,
   "metadata": {},
   "outputs": [],
   "source": [
    "df['Year'] = pd.to_datetime(df['Year'],format='%Y')"
   ]
  },
  {
   "cell_type": "code",
   "execution_count": 11,
   "metadata": {},
   "outputs": [],
   "source": [
    "df.drop(columns=['Date'], inplace=True)"
   ]
  },
  {
   "cell_type": "code",
   "execution_count": 12,
   "metadata": {},
   "outputs": [],
   "source": [
    "#df.set_index('Year')"
   ]
  },
  {
   "cell_type": "code",
   "execution_count": 13,
   "metadata": {},
   "outputs": [],
   "source": [
    "df.dropna(inplace=True)"
   ]
  },
  {
   "cell_type": "code",
   "execution_count": 14,
   "metadata": {},
   "outputs": [
    {
     "data": {
      "text/plain": [
       "(2479, 2)"
      ]
     },
     "execution_count": 14,
     "metadata": {},
     "output_type": "execute_result"
    }
   ],
   "source": [
    "df.shape"
   ]
  },
  {
   "cell_type": "code",
   "execution_count": 15,
   "metadata": {},
   "outputs": [
    {
     "data": {
      "text/plain": [
       "drawn           786\n",
       "Australia       409\n",
       "England         384\n",
       "West Indies     181\n",
       "India           169\n",
       "South Africa    169\n",
       "Pakistan        145\n",
       "New Zealand     107\n",
       "Sri Lanka        95\n",
       "Bangladesh       15\n",
       "Zimbabwe         13\n",
       "Afghanistan       3\n",
       "tied              2\n",
       "-                 1\n",
       "Name: Team, dtype: int64"
      ]
     },
     "execution_count": 15,
     "metadata": {},
     "output_type": "execute_result"
    }
   ],
   "source": [
    "df.Team.value_counts()"
   ]
  },
  {
   "cell_type": "code",
   "execution_count": 16,
   "metadata": {},
   "outputs": [],
   "source": [
    "df = df[~df.Team.isin(['drawn', 'tied', '-'])]"
   ]
  },
  {
   "cell_type": "code",
   "execution_count": 17,
   "metadata": {},
   "outputs": [
    {
     "data": {
      "text/plain": [
       "Australia       409\n",
       "England         384\n",
       "West Indies     181\n",
       "India           169\n",
       "South Africa    169\n",
       "Pakistan        145\n",
       "New Zealand     107\n",
       "Sri Lanka        95\n",
       "Bangladesh       15\n",
       "Zimbabwe         13\n",
       "Afghanistan       3\n",
       "Name: Team, dtype: int64"
      ]
     },
     "execution_count": 17,
     "metadata": {},
     "output_type": "execute_result"
    }
   ],
   "source": [
    "df.Team.value_counts()"
   ]
  },
  {
   "cell_type": "code",
   "execution_count": 18,
   "metadata": {},
   "outputs": [],
   "source": [
    "df_test = df.groupby(['Year', 'Team']).size().groupby(level=1).cumsum().unstack().fillna(method='ffill')"
   ]
  },
  {
   "cell_type": "code",
   "execution_count": 19,
   "metadata": {},
   "outputs": [
    {
     "data": {
      "text/html": [
       "<div>\n",
       "<style scoped>\n",
       "    .dataframe tbody tr th:only-of-type {\n",
       "        vertical-align: middle;\n",
       "    }\n",
       "\n",
       "    .dataframe tbody tr th {\n",
       "        vertical-align: top;\n",
       "    }\n",
       "\n",
       "    .dataframe thead th {\n",
       "        text-align: right;\n",
       "    }\n",
       "</style>\n",
       "<table border=\"1\" class=\"dataframe\">\n",
       "  <thead>\n",
       "    <tr style=\"text-align: right;\">\n",
       "      <th>Team</th>\n",
       "      <th>Afghanistan</th>\n",
       "      <th>Australia</th>\n",
       "      <th>Bangladesh</th>\n",
       "      <th>England</th>\n",
       "      <th>India</th>\n",
       "      <th>New Zealand</th>\n",
       "      <th>Pakistan</th>\n",
       "      <th>South Africa</th>\n",
       "      <th>Sri Lanka</th>\n",
       "      <th>West Indies</th>\n",
       "      <th>Zimbabwe</th>\n",
       "    </tr>\n",
       "    <tr>\n",
       "      <th>Year</th>\n",
       "      <th></th>\n",
       "      <th></th>\n",
       "      <th></th>\n",
       "      <th></th>\n",
       "      <th></th>\n",
       "      <th></th>\n",
       "      <th></th>\n",
       "      <th></th>\n",
       "      <th></th>\n",
       "      <th></th>\n",
       "      <th></th>\n",
       "    </tr>\n",
       "  </thead>\n",
       "  <tbody>\n",
       "    <tr>\n",
       "      <th>1877-01-01</th>\n",
       "      <td>0.0</td>\n",
       "      <td>1.0</td>\n",
       "      <td>0.0</td>\n",
       "      <td>1.0</td>\n",
       "      <td>0.0</td>\n",
       "      <td>0.0</td>\n",
       "      <td>0.0</td>\n",
       "      <td>0.0</td>\n",
       "      <td>0.0</td>\n",
       "      <td>0.0</td>\n",
       "      <td>0.0</td>\n",
       "    </tr>\n",
       "    <tr>\n",
       "      <th>1879-01-01</th>\n",
       "      <td>0.0</td>\n",
       "      <td>2.0</td>\n",
       "      <td>0.0</td>\n",
       "      <td>1.0</td>\n",
       "      <td>0.0</td>\n",
       "      <td>0.0</td>\n",
       "      <td>0.0</td>\n",
       "      <td>0.0</td>\n",
       "      <td>0.0</td>\n",
       "      <td>0.0</td>\n",
       "      <td>0.0</td>\n",
       "    </tr>\n",
       "    <tr>\n",
       "      <th>1880-01-01</th>\n",
       "      <td>0.0</td>\n",
       "      <td>2.0</td>\n",
       "      <td>0.0</td>\n",
       "      <td>2.0</td>\n",
       "      <td>0.0</td>\n",
       "      <td>0.0</td>\n",
       "      <td>0.0</td>\n",
       "      <td>0.0</td>\n",
       "      <td>0.0</td>\n",
       "      <td>0.0</td>\n",
       "      <td>0.0</td>\n",
       "    </tr>\n",
       "    <tr>\n",
       "      <th>1882-01-01</th>\n",
       "      <td>0.0</td>\n",
       "      <td>5.0</td>\n",
       "      <td>0.0</td>\n",
       "      <td>2.0</td>\n",
       "      <td>0.0</td>\n",
       "      <td>0.0</td>\n",
       "      <td>0.0</td>\n",
       "      <td>0.0</td>\n",
       "      <td>0.0</td>\n",
       "      <td>0.0</td>\n",
       "      <td>0.0</td>\n",
       "    </tr>\n",
       "    <tr>\n",
       "      <th>1883-01-01</th>\n",
       "      <td>0.0</td>\n",
       "      <td>8.0</td>\n",
       "      <td>0.0</td>\n",
       "      <td>4.0</td>\n",
       "      <td>0.0</td>\n",
       "      <td>0.0</td>\n",
       "      <td>0.0</td>\n",
       "      <td>0.0</td>\n",
       "      <td>0.0</td>\n",
       "      <td>0.0</td>\n",
       "      <td>0.0</td>\n",
       "    </tr>\n",
       "    <tr>\n",
       "      <th>...</th>\n",
       "      <td>...</td>\n",
       "      <td>...</td>\n",
       "      <td>...</td>\n",
       "      <td>...</td>\n",
       "      <td>...</td>\n",
       "      <td>...</td>\n",
       "      <td>...</td>\n",
       "      <td>...</td>\n",
       "      <td>...</td>\n",
       "      <td>...</td>\n",
       "      <td>...</td>\n",
       "    </tr>\n",
       "    <tr>\n",
       "      <th>2017-01-01</th>\n",
       "      <td>0.0</td>\n",
       "      <td>396.0</td>\n",
       "      <td>10.0</td>\n",
       "      <td>362.0</td>\n",
       "      <td>147.0</td>\n",
       "      <td>91.0</td>\n",
       "      <td>132.0</td>\n",
       "      <td>156.0</td>\n",
       "      <td>84.0</td>\n",
       "      <td>171.0</td>\n",
       "      <td>11.0</td>\n",
       "    </tr>\n",
       "    <tr>\n",
       "      <th>2018-01-01</th>\n",
       "      <td>0.0</td>\n",
       "      <td>399.0</td>\n",
       "      <td>13.0</td>\n",
       "      <td>370.0</td>\n",
       "      <td>154.0</td>\n",
       "      <td>95.0</td>\n",
       "      <td>136.0</td>\n",
       "      <td>162.0</td>\n",
       "      <td>88.0</td>\n",
       "      <td>174.0</td>\n",
       "      <td>12.0</td>\n",
       "    </tr>\n",
       "    <tr>\n",
       "      <th>2019-01-01</th>\n",
       "      <td>2.0</td>\n",
       "      <td>407.0</td>\n",
       "      <td>13.0</td>\n",
       "      <td>374.0</td>\n",
       "      <td>161.0</td>\n",
       "      <td>99.0</td>\n",
       "      <td>137.0</td>\n",
       "      <td>165.0</td>\n",
       "      <td>91.0</td>\n",
       "      <td>177.0</td>\n",
       "      <td>12.0</td>\n",
       "    </tr>\n",
       "    <tr>\n",
       "      <th>2020-01-01</th>\n",
       "      <td>2.0</td>\n",
       "      <td>409.0</td>\n",
       "      <td>14.0</td>\n",
       "      <td>380.0</td>\n",
       "      <td>162.0</td>\n",
       "      <td>104.0</td>\n",
       "      <td>138.0</td>\n",
       "      <td>166.0</td>\n",
       "      <td>92.0</td>\n",
       "      <td>178.0</td>\n",
       "      <td>12.0</td>\n",
       "    </tr>\n",
       "    <tr>\n",
       "      <th>2021-01-01</th>\n",
       "      <td>3.0</td>\n",
       "      <td>409.0</td>\n",
       "      <td>15.0</td>\n",
       "      <td>384.0</td>\n",
       "      <td>169.0</td>\n",
       "      <td>107.0</td>\n",
       "      <td>145.0</td>\n",
       "      <td>169.0</td>\n",
       "      <td>95.0</td>\n",
       "      <td>181.0</td>\n",
       "      <td>13.0</td>\n",
       "    </tr>\n",
       "  </tbody>\n",
       "</table>\n",
       "<p>130 rows × 11 columns</p>\n",
       "</div>"
      ],
      "text/plain": [
       "Team        Afghanistan  Australia  Bangladesh  England  India  New Zealand  \\\n",
       "Year                                                                          \n",
       "1877-01-01          0.0        1.0         0.0      1.0    0.0          0.0   \n",
       "1879-01-01          0.0        2.0         0.0      1.0    0.0          0.0   \n",
       "1880-01-01          0.0        2.0         0.0      2.0    0.0          0.0   \n",
       "1882-01-01          0.0        5.0         0.0      2.0    0.0          0.0   \n",
       "1883-01-01          0.0        8.0         0.0      4.0    0.0          0.0   \n",
       "...                 ...        ...         ...      ...    ...          ...   \n",
       "2017-01-01          0.0      396.0        10.0    362.0  147.0         91.0   \n",
       "2018-01-01          0.0      399.0        13.0    370.0  154.0         95.0   \n",
       "2019-01-01          2.0      407.0        13.0    374.0  161.0         99.0   \n",
       "2020-01-01          2.0      409.0        14.0    380.0  162.0        104.0   \n",
       "2021-01-01          3.0      409.0        15.0    384.0  169.0        107.0   \n",
       "\n",
       "Team        Pakistan  South Africa  Sri Lanka  West Indies  Zimbabwe  \n",
       "Year                                                                  \n",
       "1877-01-01       0.0           0.0        0.0          0.0       0.0  \n",
       "1879-01-01       0.0           0.0        0.0          0.0       0.0  \n",
       "1880-01-01       0.0           0.0        0.0          0.0       0.0  \n",
       "1882-01-01       0.0           0.0        0.0          0.0       0.0  \n",
       "1883-01-01       0.0           0.0        0.0          0.0       0.0  \n",
       "...              ...           ...        ...          ...       ...  \n",
       "2017-01-01     132.0         156.0       84.0        171.0      11.0  \n",
       "2018-01-01     136.0         162.0       88.0        174.0      12.0  \n",
       "2019-01-01     137.0         165.0       91.0        177.0      12.0  \n",
       "2020-01-01     138.0         166.0       92.0        178.0      12.0  \n",
       "2021-01-01     145.0         169.0       95.0        181.0      13.0  \n",
       "\n",
       "[130 rows x 11 columns]"
      ]
     },
     "execution_count": 19,
     "metadata": {},
     "output_type": "execute_result"
    }
   ],
   "source": [
    "df_test.fillna(0)"
   ]
  },
  {
   "cell_type": "code",
   "execution_count": 23,
   "metadata": {},
   "outputs": [],
   "source": [
    "#bcr.bar_chart_race(df=df_test, title = 'Test Match Wins', period_fmt='%Y')"
   ]
  },
  {
   "cell_type": "code",
   "execution_count": 24,
   "metadata": {},
   "outputs": [],
   "source": [
    "bcr.bar_chart_race(df=df_test, title = 'Test Match Wins', period_fmt='%Y', filename='Test_wins.mp4')"
   ]
  },
  {
   "cell_type": "code",
   "execution_count": null,
   "metadata": {},
   "outputs": [],
   "source": []
  },
  {
   "cell_type": "code",
   "execution_count": null,
   "metadata": {},
   "outputs": [],
   "source": []
  }
 ],
 "metadata": {
  "kernelspec": {
   "display_name": "Python 3",
   "language": "python",
   "name": "python3"
  },
  "language_info": {
   "codemirror_mode": {
    "name": "ipython",
    "version": 3
   },
   "file_extension": ".py",
   "mimetype": "text/x-python",
   "name": "python",
   "nbconvert_exporter": "python",
   "pygments_lexer": "ipython3",
   "version": "3.8.3"
  },
  "papermill": {
   "default_parameters": {},
   "duration": 104.127708,
   "end_time": "2021-12-06T16:54:30.784262",
   "environment_variables": {},
   "exception": null,
   "input_path": "__notebook__.ipynb",
   "output_path": "__notebook__.ipynb",
   "parameters": {},
   "start_time": "2021-12-06T16:52:46.656554",
   "version": "2.3.3"
  }
 },
 "nbformat": 4,
 "nbformat_minor": 5
}
